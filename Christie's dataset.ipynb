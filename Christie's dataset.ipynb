{
 "cells": [
  {
   "cell_type": "markdown",
   "id": "61998272",
   "metadata": {},
   "source": [
    "# DATASET N.1: CHRISTIE'S AUCTION HOUSE\n",
    "\n",
    "This dataset, sourced from [Christie's auction house](https://github.com/georgiecoetzer/What-Makes-Art-Valuable/tree/main), encompasses records from 2012 to 2022, detailing approximately 1,187 artworks. Data was gathered using Selenium for web scraping. The dataset emphasizes artist characteristics and artwork details.\n",
    "\n",
    "**Key Variables:**\n",
    "- **Artist:** Artist's name and lifespan.\n",
    "- **Art Title & DoC:** Title and creation date of the artwork.\n",
    "- **Price & Estimates:** Sold price, with low and high estimates.\n",
    "- **Auction Details:** Auction title, closing date, and accuracy of price estimates.\n",
    "- **Artwork Details:** Dimensions and currency (typically USD).\n",
    "- **Artist Metrics:** Age, alive status, and popularity.\n",
    "\n",
    "\n",
    "For a deeper dive, refer to the [Medium article](https://medium.com/@gcoetzer/what-makes-artvaluable-data-scraping-and-exploratory-data-visualizations-82966b218a07).\n"
   ]
  },
  {
   "cell_type": "code",
   "execution_count": 1,
   "id": "93669057",
   "metadata": {},
   "outputs": [],
   "source": [
    "#libraries\n",
    "import pandas as pd\n",
    "import matplotlib.pyplot as plt\n",
    "import matplotlib.ticker as ticker\n",
    "import seaborn as sns\n",
    "import numpy as np\n",
    "from statsmodels.stats.outliers_influence import variance_inflation_factor\n",
    "import statsmodels.api as sm\n",
    "from sklearn.model_selection import train_test_split\n",
    "from sklearn.linear_model import LinearRegression\n",
    "from sklearn.metrics import mean_squared_error, r2_score"
   ]
  },
  {
   "cell_type": "code",
   "execution_count": 2,
   "id": "50ff58bc",
   "metadata": {},
   "outputs": [
    {
     "data": {
      "text/html": [
       "<div>\n",
       "<style scoped>\n",
       "    .dataframe tbody tr th:only-of-type {\n",
       "        vertical-align: middle;\n",
       "    }\n",
       "\n",
       "    .dataframe tbody tr th {\n",
       "        vertical-align: top;\n",
       "    }\n",
       "\n",
       "    .dataframe thead th {\n",
       "        text-align: right;\n",
       "    }\n",
       "</style>\n",
       "<table border=\"1\" class=\"dataframe\">\n",
       "  <thead>\n",
       "    <tr style=\"text-align: right;\">\n",
       "      <th></th>\n",
       "      <th>Artist</th>\n",
       "      <th>Birth</th>\n",
       "      <th>Death</th>\n",
       "      <th>Age</th>\n",
       "      <th>Alive?</th>\n",
       "      <th>Art Title</th>\n",
       "      <th>DoC</th>\n",
       "      <th>Currency</th>\n",
       "      <th>price</th>\n",
       "      <th>low_estimate</th>\n",
       "      <th>high_estimate</th>\n",
       "      <th>Sold</th>\n",
       "      <th>Est Accuracy</th>\n",
       "      <th>Dimentions</th>\n",
       "      <th>close date</th>\n",
       "      <th>Auction Title</th>\n",
       "      <th>closeMonth</th>\n",
       "      <th>closeYear</th>\n",
       "      <th>popularity</th>\n",
       "    </tr>\n",
       "  </thead>\n",
       "  <tbody>\n",
       "    <tr>\n",
       "      <th>0</th>\n",
       "      <td>moise kisling</td>\n",
       "      <td>1891</td>\n",
       "      <td>1953</td>\n",
       "      <td>62</td>\n",
       "      <td>0</td>\n",
       "      <td>Nu</td>\n",
       "      <td>1931</td>\n",
       "      <td>USD</td>\n",
       "      <td>81250.00</td>\n",
       "      <td>40000</td>\n",
       "      <td>60000</td>\n",
       "      <td>1</td>\n",
       "      <td>1</td>\n",
       "      <td>(73 x 54 cm.)</td>\n",
       "      <td>17</td>\n",
       "      <td>IMPRESSIONIST &amp; MODERN ART DAY SALE</td>\n",
       "      <td>11</td>\n",
       "      <td>16</td>\n",
       "      <td>22,800</td>\n",
       "    </tr>\n",
       "    <tr>\n",
       "      <th>1</th>\n",
       "      <td>george edward lodge</td>\n",
       "      <td>1860</td>\n",
       "      <td>1954</td>\n",
       "      <td>94</td>\n",
       "      <td>0</td>\n",
       "      <td>Golden eagle on a branch</td>\n",
       "      <td>0</td>\n",
       "      <td>USD</td>\n",
       "      <td>2656.25</td>\n",
       "      <td>1500</td>\n",
       "      <td>2250</td>\n",
       "      <td>1</td>\n",
       "      <td>1</td>\n",
       "      <td>(34.6 x 24.7 cm.)</td>\n",
       "      <td>18</td>\n",
       "      <td>The Astor Collection from Tillypronie, Aberdee...</td>\n",
       "      <td>12</td>\n",
       "      <td>17</td>\n",
       "      <td>4,820,000</td>\n",
       "    </tr>\n",
       "    <tr>\n",
       "      <th>2</th>\n",
       "      <td>helen frankenthaler</td>\n",
       "      <td>1928</td>\n",
       "      <td>2011</td>\n",
       "      <td>83</td>\n",
       "      <td>0</td>\n",
       "      <td>Cinnamon Burn</td>\n",
       "      <td>1968</td>\n",
       "      <td>USD</td>\n",
       "      <td>663750.00</td>\n",
       "      <td>300000</td>\n",
       "      <td>500000</td>\n",
       "      <td>1</td>\n",
       "      <td>1</td>\n",
       "      <td>(304.8 x 208.2 cm.)</td>\n",
       "      <td>16</td>\n",
       "      <td>POST-WAR &amp; CONTEMPORARY MORNING SESSION</td>\n",
       "      <td>5</td>\n",
       "      <td>13</td>\n",
       "      <td>27,900</td>\n",
       "    </tr>\n",
       "    <tr>\n",
       "      <th>3</th>\n",
       "      <td>sir john alfred arnesby brown</td>\n",
       "      <td>1866</td>\n",
       "      <td>1955</td>\n",
       "      <td>89</td>\n",
       "      <td>0</td>\n",
       "      <td>The Round Tower, Haddiscoe</td>\n",
       "      <td>0</td>\n",
       "      <td>USD</td>\n",
       "      <td>26562.50</td>\n",
       "      <td>15000</td>\n",
       "      <td>22500</td>\n",
       "      <td>1</td>\n",
       "      <td>1</td>\n",
       "      <td>(66 x 91.4 cm.)</td>\n",
       "      <td>13</td>\n",
       "      <td>VICTORIAN &amp; BRITISH IMPRESSIONIST ART</td>\n",
       "      <td>12</td>\n",
       "      <td>12</td>\n",
       "      <td>2,130</td>\n",
       "    </tr>\n",
       "    <tr>\n",
       "      <th>4</th>\n",
       "      <td>raymond pettibon</td>\n",
       "      <td>1957</td>\n",
       "      <td>0</td>\n",
       "      <td>65</td>\n",
       "      <td>1</td>\n",
       "      <td>Untitled (But come up)</td>\n",
       "      <td>1987</td>\n",
       "      <td>USD</td>\n",
       "      <td>9375.00</td>\n",
       "      <td>3750</td>\n",
       "      <td>6250</td>\n",
       "      <td>1</td>\n",
       "      <td>1</td>\n",
       "      <td>(35.3 x 27.7cm.)</td>\n",
       "      <td>20</td>\n",
       "      <td>First Open Online</td>\n",
       "      <td>9</td>\n",
       "      <td>18</td>\n",
       "      <td>43,700</td>\n",
       "    </tr>\n",
       "  </tbody>\n",
       "</table>\n",
       "</div>"
      ],
      "text/plain": [
       "                          Artist  Birth  Death  Age  Alive?  \\\n",
       "0                 moise kisling    1891   1953   62       0   \n",
       "1           george edward lodge    1860   1954   94       0   \n",
       "2           helen frankenthaler    1928   2011   83       0   \n",
       "3  sir john alfred arnesby brown   1866   1955   89       0   \n",
       "4              raymond pettibon    1957      0   65       1   \n",
       "\n",
       "                    Art Title   DoC Currency      price  low_estimate  \\\n",
       "0                          Nu  1931      USD   81250.00         40000   \n",
       "1    Golden eagle on a branch     0      USD    2656.25          1500   \n",
       "2               Cinnamon Burn  1968      USD  663750.00        300000   \n",
       "3  The Round Tower, Haddiscoe     0      USD   26562.50         15000   \n",
       "4      Untitled (But come up)  1987      USD    9375.00          3750   \n",
       "\n",
       "   high_estimate  Sold  Est Accuracy           Dimentions  close date  \\\n",
       "0          60000     1             1        (73 x 54 cm.)          17   \n",
       "1           2250     1             1    (34.6 x 24.7 cm.)          18   \n",
       "2         500000     1             1  (304.8 x 208.2 cm.)          16   \n",
       "3          22500     1             1      (66 x 91.4 cm.)          13   \n",
       "4           6250     1             1     (35.3 x 27.7cm.)          20   \n",
       "\n",
       "                                       Auction Title  closeMonth  closeYear  \\\n",
       "0                IMPRESSIONIST & MODERN ART DAY SALE          11         16   \n",
       "1  The Astor Collection from Tillypronie, Aberdee...          12         17   \n",
       "2            POST-WAR & CONTEMPORARY MORNING SESSION           5         13   \n",
       "3              VICTORIAN & BRITISH IMPRESSIONIST ART          12         12   \n",
       "4                                  First Open Online           9         18   \n",
       "\n",
       "  popularity  \n",
       "0     22,800  \n",
       "1  4,820,000  \n",
       "2     27,900  \n",
       "3      2,130  \n",
       "4     43,700  "
      ]
     },
     "execution_count": 2,
     "metadata": {},
     "output_type": "execute_result"
    }
   ],
   "source": [
    "# URL of the dataset\n",
    "url = \"https://raw.githubusercontent.com/georgiecoetzer/What-Makes-Art-Valuable/main/Clean%20Data/Christies_data%20with%20popularity.csv\"\n",
    "\n",
    "dataset = pd.read_csv(url)\n",
    "dataset.head()"
   ]
  },
  {
   "cell_type": "markdown",
   "id": "d440e5cf",
   "metadata": {},
   "source": [
    "# Analysis of Artwork Dataset\n",
    "\n",
    "## Introduction\n",
    "\n",
    "In this analysis, I explored various variables in the dataset, which contains information about artworks, including their dimensions, prices, and other relevant details. The goal was to preprocess and analyze these variables to extract meaningful insights."
   ]
  },
  {
   "cell_type": "markdown",
   "id": "407f29e2",
   "metadata": {},
   "source": [
    "**Key Variables:**\n",
    "- **Artist:** Name of the artist.\n",
    "- **Birth & Death:** Birth and death years of the artist.\n",
    "- **Age:** Age of the artist.\n",
    "- **Alive?:** 1 for alive, 0 for deceased.\n",
    "- **Art Title:** Title of the artwork.\n",
    "- **DoC:** Date of Creation of the artwork.\n",
    "- **Currency:** Currency used, typically USD.\n",
    "- **Price:** Sold price.\n",
    "- **Low & High Estimate:** Estimated price range for the artwork.\n",
    "- **Sold:** Whether the artwork was sold.\n",
    "- **Est Accuracy:** Accuracy of the estimated price.\n",
    "- **Dimensions:** Artwork's physical dimensions.\n",
    "- **Close Date:** Auction's closing date.\n",
    "- **Auction Title:** Title of the auction event.\n",
    "- **Close Month & Year:** Month and year of auction's closing.\n",
    "- **Popularity:** Artist's popularity metric."
   ]
  },
  {
   "cell_type": "code",
   "execution_count": 3,
   "id": "90073c2d",
   "metadata": {},
   "outputs": [
    {
     "name": "stdout",
     "output_type": "stream",
     "text": [
      "Index(['artist', 'birth', 'death', 'age', 'alive', 'art_title', 'doc',\n",
      "       'currency', 'price', 'low_estimate', 'high_estimate', 'sold',\n",
      "       'est accuracy', 'dimension', 'close date', 'auct_title', 'closemonth',\n",
      "       'closeyear', 'popularity'],\n",
      "      dtype='object')\n"
     ]
    }
   ],
   "source": [
    "# Renaming the columns\n",
    "dataset.columns = dataset.columns.str.lower()  # Convert all column names to lowercase\n",
    "dataset = dataset.rename(columns={\n",
    "    'alive?': 'alive',\n",
    "    'dimentions': 'dimension',\n",
    "    'art title': 'art_title',\n",
    "    'auction title': 'auct_title'\n",
    "})\n",
    "\n",
    "print(dataset.columns)"
   ]
  },
  {
   "cell_type": "code",
   "execution_count": 4,
   "id": "f9d4d73d",
   "metadata": {},
   "outputs": [],
   "source": [
    "dataset = dataset.drop(columns=['currency'])"
   ]
  },
  {
   "cell_type": "code",
   "execution_count": 5,
   "id": "d38a7253",
   "metadata": {},
   "outputs": [
    {
     "name": "stdout",
     "output_type": "stream",
     "text": [
      "There are 1187 observations in the dataset.\n"
     ]
    }
   ],
   "source": [
    "num_observations = dataset.shape[0]\n",
    "print(f\"There are {num_observations} observations in the dataset.\")"
   ]
  },
  {
   "cell_type": "code",
   "execution_count": 6,
   "id": "74b8a7c4",
   "metadata": {},
   "outputs": [
    {
     "name": "stdout",
     "output_type": "stream",
     "text": [
      "artist           0\n",
      "birth            0\n",
      "death            0\n",
      "age              0\n",
      "alive            0\n",
      "art_title        5\n",
      "doc              0\n",
      "price            0\n",
      "low_estimate     0\n",
      "high_estimate    0\n",
      "sold             0\n",
      "est accuracy     0\n",
      "dimension        0\n",
      "close date       0\n",
      "auct_title       0\n",
      "closemonth       0\n",
      "closeyear        0\n",
      "popularity       0\n",
      "dtype: int64\n"
     ]
    }
   ],
   "source": [
    "print( dataset.isnull().sum())"
   ]
  },
  {
   "cell_type": "code",
   "execution_count": 7,
   "id": "51c3c8ff",
   "metadata": {},
   "outputs": [
    {
     "name": "stdout",
     "output_type": "stream",
     "text": [
      "artist            object\n",
      "birth              int64\n",
      "death              int64\n",
      "age                int64\n",
      "alive              int64\n",
      "art_title         object\n",
      "doc                int64\n",
      "price            float64\n",
      "low_estimate       int64\n",
      "high_estimate      int64\n",
      "sold               int64\n",
      "est accuracy       int64\n",
      "dimension         object\n",
      "close date         int64\n",
      "auct_title        object\n",
      "closemonth         int64\n",
      "closeyear          int64\n",
      "popularity        object\n",
      "dtype: object\n"
     ]
    }
   ],
   "source": [
    "# Displaying the data types of each column\n",
    "print(dataset.dtypes)"
   ]
  },
  {
   "cell_type": "markdown",
   "id": "bb90eb81",
   "metadata": {},
   "source": [
    "## Variables in the Dataset\n",
    "\n",
    "### 📊 Numerical Variables:\n",
    "- **birth**: `int64`\n",
    "- **death**: `int64`\n",
    "- **age**: `int64`\n",
    "- **alive**: `int64`\n",
    "- **doc**: `int64`\n",
    "- **price**: `float64`\n",
    "- **low_estimate**: `int64`\n",
    "- **high_estimate**: `int64`\n",
    "- **sold**: `int64`\n",
    "- **est accuracy**: `int64`\n",
    "- **close date**: `int64`\n",
    "- **closemonth**: `int64`\n",
    "- **closeyear**: `int64`\n",
    "\n",
    "### 📝 String (Object) Variables:\n",
    "- **artist**: `object`\n",
    "- **art_title**: `object`\n",
    "- **currency**: `object`\n",
    "- **dimension**: `object`\n",
    "- **auct_title**: `object`\n",
    "- **popularity**: `object`"
   ]
  },
  {
   "cell_type": "markdown",
   "id": "d3933985",
   "metadata": {},
   "source": [
    "----------------------------------------------------------------------------"
   ]
  },
  {
   "cell_type": "markdown",
   "id": "312c9e65",
   "metadata": {},
   "source": [
    "# Analysis of the `price` Variable\n",
    "\n",
    "### Descriptive Statistics\n",
    "\n",
    "I started by examining the descriptive statistics of the `price` variable."
   ]
  },
  {
   "cell_type": "code",
   "execution_count": 8,
   "id": "81260b45",
   "metadata": {},
   "outputs": [
    {
     "name": "stdout",
     "output_type": "stream",
     "text": [
      "count       1187.00\n",
      "mean      431625.43\n",
      "std      2580935.51\n",
      "min            0.00\n",
      "25%         7812.50\n",
      "50%        25000.00\n",
      "75%       122450.00\n",
      "max     52887500.00\n",
      "Name: price, dtype: float64\n"
     ]
    }
   ],
   "source": [
    "pd.set_option('display.float_format', lambda x: '%.2f' % x)\n",
    "print(dataset['price'].describe())"
   ]
  },
  {
   "cell_type": "markdown",
   "id": "bea25f5a",
   "metadata": {},
   "source": [
    "### Currency Conversion in the Dataset\n",
    "\n",
    "The dataset originally contained artwork prices in various currencies. To ensure consistency and facilitate analysis, all prices were standardized to USD (U.S. Dollar) based on 2022 conversion rates.\n",
    "\n",
    "**Steps Undertaken:**\n",
    "1. **Currency Conversion Functions**: Functions were defined for each currency type (e.g., GBP, EUR, HKD) to convert values to USD.\n",
    "2. **Iterative Conversion**: Each artwork's price, low estimate, and high estimate were converted to USD using the appropriate function based on its currency type.\n",
    "3. **Dataset Update**: The original dataset columns were updated with the converted values, and the currency column was set to \"USD\" for all records."
   ]
  },
  {
   "cell_type": "markdown",
   "id": "59b249bc",
   "metadata": {},
   "source": [
    "### Distribution of Low-Priced Artworks\n",
    "I identified artworks priced below $100."
   ]
  },
  {
   "cell_type": "code",
   "execution_count": 9,
   "id": "e669e872",
   "metadata": {},
   "outputs": [
    {
     "name": "stdout",
     "output_type": "stream",
     "text": [
      "There are 7 artworks priced below $100.\n"
     ]
    }
   ],
   "source": [
    "below_100_count = dataset[dataset['price'] < 100].shape[0]\n",
    "print(f\"There are {below_100_count} artworks priced below $100.\")"
   ]
  },
  {
   "cell_type": "code",
   "execution_count": 10,
   "id": "a5a5d4e7",
   "metadata": {},
   "outputs": [
    {
     "data": {
      "image/png": "[encoded data removed]",
      "text/plain": [
       "<Figure size 720x432 with 1 Axes>"
      ]
     },
     "metadata": {},
     "output_type": "display_data"
    }
   ],
   "source": [
    "sns.set_style(\"whitegrid\")\n",
    "plt.figure(figsize=(10,6))\n",
    "sns.histplot(dataset['price'], bins=50, kde=True, color=\"blue\")\n",
    "plt.title('Distribution of Price')\n",
    "plt.xlabel('Price')\n",
    "plt.ylabel('Number of Artworks')\n",
    "plt.show()"
   ]
  },
  {
   "cell_type": "markdown",
   "id": "c1936230",
   "metadata": {},
   "source": [
    "### Distribution of 'Sold' Variable\n",
    "I also checked the distribution of the sold variable."
   ]
  },
  {
   "cell_type": "code",
   "execution_count": 11,
   "id": "879a92bf",
   "metadata": {},
   "outputs": [
    {
     "name": "stdout",
     "output_type": "stream",
     "text": [
      "\n",
      "Distribution for 'sold':\n",
      " 1    1180\n",
      "0       7\n",
      "Name: sold, dtype: int64\n"
     ]
    }
   ],
   "source": [
    "sold_counts = dataset['sold'].value_counts()\n",
    "print(\"\\nDistribution for 'sold':\\n\", sold_counts)"
   ]
  },
  {
   "cell_type": "markdown",
   "id": "2588681f",
   "metadata": {},
   "source": [
    "### Analyzing Unsold Artworks\n",
    "I analyzed artworks that were unsold in a particular year (e.g., 2016) and checked if they reappeared in subsequent auctions.\n",
    "\n",
    "**Outcome**:\n",
    "   - No artworks from the specified year that were unsold reappeared in the subsequent auctions covered by the dataset. This suggests that either these artworks weren't put up for auction again, were sold privately, or there are limitations in the dataset capturing this information."
   ]
  },
  {
   "cell_type": "code",
   "execution_count": 12,
   "id": "e9567ca6",
   "metadata": {},
   "outputs": [],
   "source": [
    "# Step 1: Extract artworks that were unsold in a particular year, for example, 2016\n",
    "unsold_artworks_2016 = dataset[(dataset['closeyear'] == 2016) & (dataset['sold'] == 0)]['art_title'].unique()\n",
    "\n",
    "# Step 2 & 3: For each of these artworks, check if they appear in the dataset for subsequent years and retrieve their prices\n",
    "reappeared_artworks = {}\n",
    "\n",
    "for artwork in unsold_artworks_2016:\n",
    "    subsequent_years = dataset[(dataset['art_title'] == artwork) & (dataset['closeyear'] > 2016)]\n",
    "    if not subsequent_years.empty:\n",
    "        reappeared_artworks[artwork] = subsequent_years[['closeyear', 'price']].values.tolist()\n",
    "\n",
    "# Display the artworks that reappeared and their prices\n",
    "for artwork, prices in reappeared_artworks.items():\n",
    "    print(f\"Artwork: {artwork}\")\n",
    "    for year, price in prices:\n",
    "        print(f\"Year: {year}, Price: ${price}\")\n",
    "    print(\"\\n\")"
   ]
  },
  {
   "cell_type": "markdown",
   "id": "b0223e9c",
   "metadata": {},
   "source": [
    "### Filtering Out Zero-Priced Artworks\n",
    "To ensure the accuracy of the analysis, artworks with a price of 0 were removed."
   ]
  },
  {
   "cell_type": "code",
   "execution_count": 13,
   "id": "5c79c7cc",
   "metadata": {},
   "outputs": [],
   "source": [
    "dataset = dataset[dataset['price'] > 0]"
   ]
  },
  {
   "cell_type": "markdown",
   "id": "571ff322",
   "metadata": {},
   "source": [
    "Now there are 1180 observations."
   ]
  },
  {
   "cell_type": "markdown",
   "id": "76086c5c",
   "metadata": {},
   "source": [
    "### Log Transformation of Price\n",
    "To achieve a more symmetric distribution, I applied a logarithmic transformation to the price variable."
   ]
  },
  {
   "cell_type": "code",
   "execution_count": 14,
   "id": "ed3993aa",
   "metadata": {
    "scrolled": false
   },
   "outputs": [
    {
     "data": {
      "image/png": "[encoded data removed]",
      "text/plain": [
       "<Figure size 720x432 with 1 Axes>"
      ]
     },
     "metadata": {},
     "output_type": "display_data"
    }
   ],
   "source": [
    "dataset['log_price'] = np.log(dataset['price'] + 1)\n",
    "plt.figure(figsize=(10, 6))\n",
    "sns.histplot(dataset['log_price'], kde=True, color=\"blue\")\n",
    "plt.title('Distribution of Log-transformed Price')\n",
    "plt.xlabel('Log(Price + 1)')\n",
    "plt.ylabel('Frequency')\n",
    "plt.show()"
   ]
  },
  {
   "cell_type": "markdown",
   "id": "06ac37af",
   "metadata": {},
   "source": [
    "----------------------------------------------------------------------------"
   ]
  },
  {
   "cell_type": "markdown",
   "id": "5451324a",
   "metadata": {},
   "source": [
    "# Analysis of the `art_title` Variable\n",
    "\n",
    "## Introduction\n",
    "\n",
    "The `art_title` variable in the dataset represents the title of each artwork. In this analysis, I explored and processed this variable to handle missing values and categorize artworks based on their titles.\n",
    "\n",
    "### Identifying Unique Titles\n",
    "\n",
    "I started by extracting and printing all unique titles present in the dataset.\n",
    "\n",
    "```python\n",
    "unique_titles = dataset['art_title'].unique()\n",
    "for title in unique_titles:\n",
    "    print(title)\n"
   ]
  },
  {
   "cell_type": "markdown",
   "id": "0fe5c407",
   "metadata": {},
   "source": [
    "### Identifying \"Untitled\" Artworks\n",
    "Next, I identified artworks that have the word \"untitled\" in their title, regardless of case."
   ]
  },
  {
   "cell_type": "code",
   "execution_count": 15,
   "id": "8ae50e21",
   "metadata": {},
   "outputs": [
    {
     "name": "stdout",
     "output_type": "stream",
     "text": [
      "4       Untitled (But come up)\n",
      "11                    Untitled\n",
      "38      Untitled (Personnages)\n",
      "46                    Untitled\n",
      "47                Untitled #61\n",
      "                 ...          \n",
      "1136      Untitled (Musicians)\n",
      "1143    Untitled (The Kitchen)\n",
      "1148       Untitled (Palisade)\n",
      "1154            each: Untitled\n",
      "1161                  Untitled\n",
      "Name: art_title, Length: 109, dtype: object\n",
      "Number of artworks with 'untitled' in their title: 109\n"
     ]
    }
   ],
   "source": [
    "untitled_artworks = dataset[dataset['art_title'].str.contains('untitled', case=False, na=False)]\n",
    "print(untitled_artworks['art_title'])\n",
    "num_untitled_artworks = untitled_artworks.shape[0]\n",
    "print(f\"Number of artworks with 'untitled' in their title: {num_untitled_artworks}\")"
   ]
  },
  {
   "cell_type": "markdown",
   "id": "a986510a",
   "metadata": {},
   "source": [
    "### Processing \"Untitled\" Artworks\n",
    "\n",
    "To standardize the dataset:\n",
    "\n",
    "1. I replaced titles containing the word \"untitled\" with just \"untitled\".\n",
    "2. I replaced missing values in the `art_title` column with \"untitled\"."
   ]
  },
  {
   "cell_type": "code",
   "execution_count": 16,
   "id": "bae0c237",
   "metadata": {},
   "outputs": [],
   "source": [
    "dataset['art_title'] = dataset['art_title'].apply(lambda x: 'untitled' if 'untitled' in str(x).lower() else x)\n",
    "dataset['art_title'].fillna('untitled', inplace=True)"
   ]
  },
  {
   "cell_type": "markdown",
   "id": "d8f05e83",
   "metadata": {},
   "source": [
    "### Creating a Binary \"Titled\" Column\n",
    "I created a binary column named `titled`, where artworks with a title are represented by 1 and \"untitled\" artworks are represented by 0."
   ]
  },
  {
   "cell_type": "code",
   "execution_count": 17,
   "id": "6c292518",
   "metadata": {},
   "outputs": [],
   "source": [
    "dataset['titled'] = (~dataset['art_title'].str.contains('untitled', case=False)).astype(int)"
   ]
  },
  {
   "cell_type": "code",
   "execution_count": 18,
   "id": "ec704a78",
   "metadata": {},
   "outputs": [],
   "source": [
    "dataset = dataset.drop(columns=['art_title'])"
   ]
  },
  {
   "cell_type": "markdown",
   "id": "367f2b7e",
   "metadata": {},
   "source": [
    "### Visualizing the Proportion of Titled vs. Untitled Artworks\n",
    "I visualized the proportion of titled and untitled artworks using a pie chart."
   ]
  },
  {
   "cell_type": "code",
   "execution_count": 19,
   "id": "3cb8ee5e",
   "metadata": {},
   "outputs": [
    {
     "data": {
      "image/png": "[encoded data removed]",
      "text/plain": [
       "<Figure size 576x432 with 1 Axes>"
      ]
     },
     "metadata": {},
     "output_type": "display_data"
    }
   ],
   "source": [
    "titled_count = dataset['titled'].sum()\n",
    "untitled_count = len(dataset) - titled_count\n",
    "labels = ['Titled', 'Untitled']\n",
    "sizes = [titled_count, untitled_count]\n",
    "colors = ['blue', 'orange']  # Specify colors for each category\n",
    "plt.figure(figsize=(8, 6))\n",
    "plt.pie(sizes, labels=labels, colors=colors, autopct='%1.1f%%', startangle=90)\n",
    "plt.title('Proportion of Titled vs Untitled Artworks')\n",
    "plt.show()"
   ]
  },
  {
   "cell_type": "markdown",
   "id": "1b5dd54d",
   "metadata": {},
   "source": [
    "# Processing the \"Date of Creation\" (`doc`) Variable"
   ]
  },
  {
   "cell_type": "markdown",
   "id": "8d1155c0",
   "metadata": {},
   "source": [
    "### Initial Observations:\n",
    "1. I counted the number of rows where `doc` is set to 0.\n",
    "2. I listed the unique values of the `doc` column to understand its distribution."
   ]
  },
  {
   "cell_type": "code",
   "execution_count": 20,
   "id": "99c13bd1",
   "metadata": {},
   "outputs": [
    {
     "name": "stdout",
     "output_type": "stream",
     "text": [
      "Number of rows with 'doc' equal to 0: 576\n"
     ]
    }
   ],
   "source": [
    "doc_zero_count = dataset[dataset['doc'] == 0].shape[0]\n",
    "print(f\"Number of rows with 'doc' equal to 0: {doc_zero_count}\")"
   ]
  },
  {
   "cell_type": "code",
   "execution_count": 21,
   "id": "8df048d0",
   "metadata": {},
   "outputs": [
    {
     "name": "stdout",
     "output_type": "stream",
     "text": [
      "[0, 6, 8, 9, 16, 19, 35, 44, 70, 91, 1592, 1867, 1870, 1874, 1876, 1877, 1881, 1883, 1884, 1888, 1891, 1892, 1894, 1895, 1897, 1900, 1901, 1903, 1905, 1906, 1907, 1908, 1909, 1910, 1911, 1912, 1913, 1914, 1916, 1918, 1919, 1920, 1922, 1923, 1924, 1925, 1926, 1928, 1929, 1930, 1931, 1932, 1935, 1936, 1937, 1938, 1939, 1940, 1941, 1942, 1943, 1944, 1946, 1947, 1948, 1949, 1950, 1951, 1952, 1953, 1954, 1955, 1956, 1957, 1958, 1959, 1960, 1961, 1962, 1963, 1964, 1965, 1966, 1967, 1968, 1969, 1970, 1971, 1972, 1973, 1974, 1975, 1976, 1977, 1978, 1979, 1980, 1981, 1982, 1983, 1984, 1985, 1986, 1987, 1988, 1989, 1990, 1991, 1992, 1993, 1994, 1995, 1996, 1997, 1998, 1999, 2000, 2001, 2002, 2003, 2004, 2005, 2006, 2007, 2008, 2009, 2010, 2011, 2012, 2013, 2014, 2015, 2016, 2017, 2018, 2020]\n"
     ]
    }
   ],
   "source": [
    "unique_doc_values = sorted(dataset['doc'].unique())\n",
    "print(unique_doc_values)"
   ]
  },
  {
   "cell_type": "markdown",
   "id": "022f1b22",
   "metadata": {},
   "source": [
    "### Data Cleaning:\n",
    "1. I set a threshold of 1500 and replaced any `doc` values below this threshold with 0.\n",
    "2. I converted the `doc` values to strings and then to a categorical data type."
   ]
  },
  {
   "cell_type": "code",
   "execution_count": 22,
   "id": "a53b21d3",
   "metadata": {},
   "outputs": [],
   "source": [
    "threshold = 1500\n",
    "dataset['doc'] = dataset['doc'].apply(lambda x: 0 if x < threshold else x)"
   ]
  },
  {
   "cell_type": "code",
   "execution_count": 23,
   "id": "fe96519f",
   "metadata": {},
   "outputs": [],
   "source": [
    "dataset['doc'] = dataset['doc'].astype(str)\n",
    "dataset['doc'] = dataset['doc'].astype('category')"
   ]
  },
  {
   "cell_type": "markdown",
   "id": "04ae339c",
   "metadata": {},
   "source": [
    "### Categorizing the \"doc\" Variable:\n",
    "\n",
    "Based on the historical periods, I categorized the `doc` variable into:\n",
    "- **Early Modern (1500-1800)**: Artworks from 1500 to 1800\n",
    "- **Modern (1801-1900)**: Artworks from 1801 to 1900\n",
    "- **Early 20th Century (1901-1945)**: Artworks from 1901 to 1945\n",
    "- **Post-War to Late '90s (1946-1999)**: Artworks from 1946 to 1999\n",
    "- **Early 2000s to Modern (2000-present)**: Artworks from 2000 to the present\n",
    "\n",
    "I created a new column, `doc_category`, to store these categorized values."
   ]
  },
  {
   "cell_type": "code",
   "execution_count": 24,
   "id": "24fe3561",
   "metadata": {},
   "outputs": [
    {
     "data": {
      "text/html": [
       "<div>\n",
       "<style scoped>\n",
       "    .dataframe tbody tr th:only-of-type {\n",
       "        vertical-align: middle;\n",
       "    }\n",
       "\n",
       "    .dataframe tbody tr th {\n",
       "        vertical-align: top;\n",
       "    }\n",
       "\n",
       "    .dataframe thead th {\n",
       "        text-align: right;\n",
       "    }\n",
       "</style>\n",
       "<table border=\"1\" class=\"dataframe\">\n",
       "  <thead>\n",
       "    <tr style=\"text-align: right;\">\n",
       "      <th></th>\n",
       "      <th>doc</th>\n",
       "      <th>doc_category</th>\n",
       "    </tr>\n",
       "  </thead>\n",
       "  <tbody>\n",
       "    <tr>\n",
       "      <th>0</th>\n",
       "      <td>1931</td>\n",
       "      <td>Early 20th Century (1901-1945)</td>\n",
       "    </tr>\n",
       "    <tr>\n",
       "      <th>1</th>\n",
       "      <td>0</td>\n",
       "      <td>Unknown</td>\n",
       "    </tr>\n",
       "    <tr>\n",
       "      <th>2</th>\n",
       "      <td>1968</td>\n",
       "      <td>Post-War to Late '90s (1946-1999)</td>\n",
       "    </tr>\n",
       "    <tr>\n",
       "      <th>3</th>\n",
       "      <td>0</td>\n",
       "      <td>Unknown</td>\n",
       "    </tr>\n",
       "    <tr>\n",
       "      <th>4</th>\n",
       "      <td>1987</td>\n",
       "      <td>Post-War to Late '90s (1946-1999)</td>\n",
       "    </tr>\n",
       "  </tbody>\n",
       "</table>\n",
       "</div>"
      ],
      "text/plain": [
       "    doc                       doc_category\n",
       "0  1931     Early 20th Century (1901-1945)\n",
       "1     0                            Unknown\n",
       "2  1968  Post-War to Late '90s (1946-1999)\n",
       "3     0                            Unknown\n",
       "4  1987  Post-War to Late '90s (1946-1999)"
      ]
     },
     "execution_count": 24,
     "metadata": {},
     "output_type": "execute_result"
    }
   ],
   "source": [
    "period_categories = {\n",
    "    'Modern (1500-1900)': list(range(1500, 1901)),\n",
    "    'Early 20th Century (1901-1945)': list(range(1901, 1946)),\n",
    "    'Post-War to Late \\'90s (1946-1999)': list(range(1946, 2000)),\n",
    "    'Early 2000s to Modern (2000-present)': list(range(2000, 2023))  # Update the end year if needed\n",
    "}\n",
    "\n",
    "# Categorize \"doc\" based on the custom categories\n",
    "dataset['doc_category'] = dataset['doc'].apply(lambda x: next((cat for cat, years in period_categories.items() if int(x) in years), 'Unknown'))\n",
    "\n",
    "# Display the first few rows of the dataset with the new \"doc_category\" column\n",
    "dataset[['doc', 'doc_category']].head()"
   ]
  },
  {
   "cell_type": "markdown",
   "id": "82ab186d",
   "metadata": {},
   "source": [
    "### Visualization:\n",
    "\n",
    "I dropped the original `doc` column and visualized the distribution of the `doc_category` using a pie chart to understand the proportions of artworks in each historical period."
   ]
  },
  {
   "cell_type": "code",
   "execution_count": 25,
   "id": "93ef6033",
   "metadata": {},
   "outputs": [],
   "source": [
    "#dataset = dataset.drop(columns=['doc'])"
   ]
  },
  {
   "cell_type": "code",
   "execution_count": 26,
   "id": "b5182126",
   "metadata": {
    "scrolled": false
   },
   "outputs": [
    {
     "data": {
      "image/png": "[encoded data removed]",
      "text/plain": [
       "<Figure size 720x504 with 1 Axes>"
      ]
     },
     "metadata": {},
     "output_type": "display_data"
    }
   ],
   "source": [
    "category_counts = dataset['doc_category'].value_counts()\n",
    "\n",
    "sns.set_style(\"whitegrid\")\n",
    "sns.set_palette(\"deep\")\n",
    "plt.figure(figsize=(10, 7))\n",
    "plt.pie(category_counts, labels=category_counts.index, autopct='%1.1f%%', startangle=90, wedgeprops=dict(width=0.3))\n",
    "plt.title('Proportions of Observations in doc_category')\n",
    "plt.show()"
   ]
  },
  {
   "cell_type": "markdown",
   "id": "26c5e36f",
   "metadata": {},
   "source": [
    "----------------------------------------------------------------------------"
   ]
  },
  {
   "cell_type": "markdown",
   "id": "46028a4a",
   "metadata": {},
   "source": [
    "# Processing the `popularity` Variable"
   ]
  },
  {
   "cell_type": "markdown",
   "id": "dc4cdd88",
   "metadata": {},
   "source": [
    "### Initial Observations:\n",
    "- I displayed the descriptive statistics for the `popularity` column."
   ]
  },
  {
   "cell_type": "code",
   "execution_count": 27,
   "id": "a4550ac4",
   "metadata": {
    "scrolled": true
   },
   "outputs": [
    {
     "name": "stdout",
     "output_type": "stream",
     "text": [
      "count        1180\n",
      "unique        598\n",
      "top       470,000\n",
      "freq           78\n",
      "Name: popularity, dtype: object\n"
     ]
    }
   ],
   "source": [
    "print(dataset['popularity'].describe())"
   ]
  },
  {
   "cell_type": "markdown",
   "id": "c6296dc7",
   "metadata": {},
   "source": [
    "### Data Cleaning:\n",
    "1. I removed commas from the `popularity` column and converted it to a numeric data type.\n",
    "2. I displayed the updated descriptive statistics for the cleaned `popularity` column."
   ]
  },
  {
   "cell_type": "code",
   "execution_count": 28,
   "id": "01376bc8",
   "metadata": {},
   "outputs": [
    {
     "name": "stdout",
     "output_type": "stream",
     "text": [
      "count       1180.00\n",
      "mean     1037956.08\n",
      "std      4297927.31\n",
      "min         2130.00\n",
      "25%        43400.00\n",
      "50%       115000.00\n",
      "75%       470000.00\n",
      "max     76100000.00\n",
      "Name: popularity, dtype: float64\n"
     ]
    }
   ],
   "source": [
    "dataset['popularity'] = dataset['popularity'].str.replace(',', '', regex=True).astype(float)\n",
    "print(dataset['popularity'].describe())"
   ]
  },
  {
   "cell_type": "code",
   "execution_count": 29,
   "id": "61505070",
   "metadata": {},
   "outputs": [],
   "source": [
    "dataset['popularity'] = pd.to_numeric(dataset['popularity'], errors='coerce')"
   ]
  },
  {
   "cell_type": "code",
   "execution_count": 30,
   "id": "092bf8b0",
   "metadata": {},
   "outputs": [
    {
     "data": {
      "image/png": "[encoded data removed]",
      "text/plain": [
       "<Figure size 720x432 with 1 Axes>"
      ]
     },
     "metadata": {},
     "output_type": "display_data"
    }
   ],
   "source": [
    "# Histogram\n",
    "plt.figure(figsize=(10, 6))\n",
    "sns.histplot(dataset['popularity'], bins=30, kde=True)\n",
    "plt.title('Distribution of Popularity')\n",
    "plt.xlabel('Popularity')\n",
    "plt.ylabel('Frequency')\n",
    "plt.show()"
   ]
  },
  {
   "cell_type": "code",
   "execution_count": 31,
   "id": "00aa5aa9",
   "metadata": {},
   "outputs": [],
   "source": [
    "dataset['log_pop'] = np.log(dataset['popularity'])"
   ]
  },
  {
   "cell_type": "code",
   "execution_count": 32,
   "id": "1296862c",
   "metadata": {},
   "outputs": [
    {
     "data": {
      "image/png": "[encoded data removed]",
      "text/plain": [
       "<Figure size 720x432 with 1 Axes>"
      ]
     },
     "metadata": {},
     "output_type": "display_data"
    }
   ],
   "source": [
    "# Histogram\n",
    "plt.figure(figsize=(10, 6))\n",
    "sns.histplot(dataset['log_pop'], bins=30, kde=True)\n",
    "plt.title('Distribution of Popularity')\n",
    "plt.xlabel('Popularity')\n",
    "plt.ylabel('Frequency')\n",
    "plt.show()"
   ]
  },
  {
   "cell_type": "markdown",
   "id": "2971283c",
   "metadata": {},
   "source": [
    "### Feature Scaling:\n",
    "\n",
    "- I first transformed the `popularity` variable using a logarithmic transformation, resulting in a new column named `log_pop`. Subsequently, I applied min-max scaling to the log_pop values to rescale them into a range of 0 to 10. The column containing these rescaled values is named pop_scaled."
   ]
  },
  {
   "cell_type": "code",
   "execution_count": 33,
   "id": "17a5ee85",
   "metadata": {},
   "outputs": [
    {
     "name": "stdout",
     "output_type": "stream",
     "text": [
      "count   1180.00\n",
      "mean       4.02\n",
      "std        1.64\n",
      "min        0.00\n",
      "25%        2.88\n",
      "50%        3.80\n",
      "75%        5.15\n",
      "max       10.00\n",
      "Name: scaled_log_pop, dtype: float64\n"
     ]
    }
   ],
   "source": [
    "min_log_pop = dataset['log_pop'].min()\n",
    "max_log_pop = dataset['log_pop'].max()\n",
    "\n",
    "dataset['scaled_log_pop'] = 10 * (dataset['log_pop'] - min_log_pop) / (max_log_pop - min_log_pop)\n",
    "print(dataset['scaled_log_pop'].describe())"
   ]
  },
  {
   "cell_type": "markdown",
   "id": "c4a883b0",
   "metadata": {},
   "source": [
    "### Categorizing the \"popularity\" Variable:\n",
    "Based on the scaled values, I categorized the `popularity` into:\n",
    "- **Low**: Values up to 0.05 (25th percentile).\n",
    "- **Medium**: Values between 0.05 and 0.61 (25th to 75th percentile).\n",
    "- **High**: Values above 0.61 (75th percentile).\n",
    "\n",
    "I created a new column, `pop_category`, to store these categorized values."
   ]
  },
  {
   "cell_type": "code",
   "execution_count": 34,
   "id": "f9d1ac78",
   "metadata": {},
   "outputs": [
    {
     "data": {
      "text/plain": [
       "\"\\ndef categorize_popularity(value):\\n    if value <= 2.88:\\n        return 'Low'\\n    elif 2.88 < value <= 5.15:\\n        return 'Medium'\\n    else:\\n        return 'High'\\n\\ndataset['pop_category'] = dataset['scaled_log_pop'].apply(categorize_popularity)\\n\""
      ]
     },
     "execution_count": 34,
     "metadata": {},
     "output_type": "execute_result"
    }
   ],
   "source": [
    "'''\n",
    "def categorize_popularity(value):\n",
    "    if value <= 2.88:\n",
    "        return 'Low'\n",
    "    elif 2.88 < value <= 5.15:\n",
    "        return 'Medium'\n",
    "    else:\n",
    "        return 'High'\n",
    "\n",
    "dataset['pop_category'] = dataset['scaled_log_pop'].apply(categorize_popularity)\n",
    "'''\n"
   ]
  },
  {
   "cell_type": "markdown",
   "id": "aeec3b0a",
   "metadata": {},
   "source": [
    "### Visualization:\n",
    "I visualized the distribution of the `pop_category` using a bar chart to understand the number of artworks in each popularity category."
   ]
  },
  {
   "cell_type": "code",
   "execution_count": 35,
   "id": "db96de18",
   "metadata": {},
   "outputs": [
    {
     "data": {
      "text/plain": [
       "'\\ncategory_counts = dataset[\\'pop_category\\'].value_counts()\\n\\nsns.set_style(\"whitegrid\")\\nsns.set_palette(\"husl\", n_colors=len(dataset[\\'pop_category\\'].unique()))\\nplt.figure(figsize=(12, 8))\\nsns.barplot(x=category_counts.index, y=category_counts.values)\\nplt.title(\\'Number of Observations for Each Category in pop_category\\', fontsize=16)\\nplt.xlabel(\\'Category\\', fontsize=14)\\nplt.ylabel(\\'Number of Observations\\', fontsize=14)\\nplt.xticks(rotation=45)\\nplt.tight_layout()\\nplt.show()\\n'"
      ]
     },
     "execution_count": 35,
     "metadata": {},
     "output_type": "execute_result"
    }
   ],
   "source": [
    "'''\n",
    "category_counts = dataset['pop_category'].value_counts()\n",
    "\n",
    "sns.set_style(\"whitegrid\")\n",
    "sns.set_palette(\"husl\", n_colors=len(dataset['pop_category'].unique()))\n",
    "plt.figure(figsize=(12, 8))\n",
    "sns.barplot(x=category_counts.index, y=category_counts.values)\n",
    "plt.title('Number of Observations for Each Category in pop_category', fontsize=16)\n",
    "plt.xlabel('Category', fontsize=14)\n",
    "plt.ylabel('Number of Observations', fontsize=14)\n",
    "plt.xticks(rotation=45)\n",
    "plt.tight_layout()\n",
    "plt.show()\n",
    "'''"
   ]
  },
  {
   "cell_type": "markdown",
   "id": "26aa4c21",
   "metadata": {},
   "source": [
    "----------------------------------------------------------------------------"
   ]
  },
  {
   "cell_type": "markdown",
   "id": "2737db0b",
   "metadata": {},
   "source": [
    "# Analysis of the `dimension` Variable\n",
    "\n",
    "## Introduction\n",
    "\n",
    "I delved into the `dimension` variable in the dataset, which represents the dimensions of artworks. This variable was initially a string containing both measurements and units of measure (cm, mm, in). My goal was to process this variable to extract meaningful information about the sizes of artworks and categorize them based on their area.\n"
   ]
  },
  {
   "cell_type": "code",
   "execution_count": null,
   "id": "055185d3",
   "metadata": {},
   "outputs": [],
   "source": [
    "unique_dimensions = dataset['dimension'].unique()\n",
    "num_unique_dimensions = len(unique_dimensions)\n",
    "unique_dimensions, num_unique_dimensions"
   ]
  },
  {
   "cell_type": "markdown",
   "id": "85af0193",
   "metadata": {},
   "source": [
    "## Preprocessing\n",
    "\n",
    "1. **Creating a Copy**: \n",
    "   - I made a copy of the `dimension` column, naming it `dimension_copy`, to preserve the original data.\n",
    "\n",
    "2. **Extracting Units of Measure**: \n",
    "   - I extracted the units of measure (cm, mm, in) from the `dimension_copy` column and stored them in a new column named `unit`.\n",
    "\n",
    "3. **Converting Dimensions**: \n",
    "   - I converted all dimensions to centimeters (cm) using the following conversions:\n",
    "     - 1 inch = 2.54 cm\n",
    "     - 1 mm = 0.1 cm"
   ]
  },
  {
   "cell_type": "code",
   "execution_count": 37,
   "id": "4b483242",
   "metadata": {},
   "outputs": [
    {
     "name": "stdout",
     "output_type": "stream",
     "text": [
      "                    dimension_copy unit\n",
      "0                    (73 x 54 cm.)   cm\n",
      "1                (34.6 x 24.7 cm.)   cm\n",
      "2              (304.8 x 208.2 cm.)   cm\n",
      "3                  (66 x 91.4 cm.)   cm\n",
      "4                 (35.3 x 27.7cm.)   cm\n",
      "...                            ...  ...\n",
      "1182             (15.5 x 24.1 cm.)   cm\n",
      "1183                             0  NaN\n",
      "1184                             0  NaN\n",
      "1185             (55.6 x 45.9 cm.)   cm\n",
      "1186  (365 x 248mm to 403 x 277mm)   mm\n",
      "\n",
      "[1180 rows x 2 columns]\n"
     ]
    }
   ],
   "source": [
    "dataset['dimension_copy'] = dataset['dimension']\n",
    "# Extract units from the dimension_copy column\n",
    "dataset['unit'] = dataset['dimension_copy'].str.extract(r'(cm|mm|in.)')\n",
    "print(dataset[['dimension_copy', 'unit']])"
   ]
  },
  {
   "cell_type": "code",
   "execution_count": 38,
   "id": "f1a82918",
   "metadata": {},
   "outputs": [
    {
     "name": "stdout",
     "output_type": "stream",
     "text": [
      "['cm' nan 'mm' 'in.' 'in ' 'inc' 'ing']\n"
     ]
    }
   ],
   "source": [
    "# Check the unique values in the 'unit' column\n",
    "unique_units = dataset['unit'].unique()\n",
    "print(unique_units)"
   ]
  },
  {
   "cell_type": "code",
   "execution_count": 39,
   "id": "afa58692",
   "metadata": {},
   "outputs": [
    {
     "name": "stdout",
     "output_type": "stream",
     "text": [
      "['cm' 'unknown' 'mm' 'in']\n"
     ]
    }
   ],
   "source": [
    "# Replace all variations of inches with \"in\"\n",
    "dataset['unit'] = dataset['unit'].replace(['in.', 'inc', 'ing', 'in '], 'in')\n",
    "dataset['unit'].fillna('unknown', inplace=True)\n",
    "\n",
    "# Check the updated unique values in the 'unit' column\n",
    "updated_unique_units = dataset['unit'].unique()\n",
    "print(updated_unique_units)"
   ]
  },
  {
   "cell_type": "code",
   "execution_count": 40,
   "id": "968bb38a",
   "metadata": {},
   "outputs": [],
   "source": [
    "def convert_to_cm(value, unit):\n",
    "    # Convert inches to cm\n",
    "    if unit == 'in':\n",
    "        return value * 2.54\n",
    "    # Convert mm to cm\n",
    "    elif unit == 'mm':\n",
    "        return value * 0.1\n",
    "    # If already in cm or unknown, return the value\n",
    "    else:\n",
    "        return value"
   ]
  },
  {
   "cell_type": "code",
   "execution_count": 41,
   "id": "43ab6507",
   "metadata": {},
   "outputs": [],
   "source": [
    "# Extract height and width from the dimension_copy column\n",
    "dataset['height'] = dataset['dimension_copy'].str.extract(r'(\\d+\\.?\\d*)')[0].astype(float)\n",
    "dataset['width'] = dataset['dimension_copy'].str.extract(r'x (\\d+\\.?\\d*)')[0].astype(float)"
   ]
  },
  {
   "cell_type": "code",
   "execution_count": 42,
   "id": "db70038f",
   "metadata": {},
   "outputs": [],
   "source": [
    "# Convert height and width to cm based on the unit\n",
    "dataset['height_cm'] = dataset.apply(lambda row: convert_to_cm(row['height'], row['unit']), axis=1)\n",
    "dataset['width_cm'] = dataset.apply(lambda row: convert_to_cm(row['width'], row['unit']), axis=1)"
   ]
  },
  {
   "cell_type": "code",
   "execution_count": 43,
   "id": "0b55e743",
   "metadata": {},
   "outputs": [],
   "source": [
    "# Calculate the area\n",
    "dataset['area_cm2'] = dataset['height_cm'] * dataset['width_cm']"
   ]
  },
  {
   "cell_type": "code",
   "execution_count": 44,
   "id": "6dcb8890",
   "metadata": {},
   "outputs": [
    {
     "name": "stdout",
     "output_type": "stream",
     "text": [
      "                    dimension_copy     unit  height_cm  width_cm  area_cm2\n",
      "0                    (73 x 54 cm.)       cm      73.00     54.00   3942.00\n",
      "1                (34.6 x 24.7 cm.)       cm      34.60     24.70    854.62\n",
      "2              (304.8 x 208.2 cm.)       cm     304.80    208.20  63459.36\n",
      "3                  (66 x 91.4 cm.)       cm      66.00     91.40   6032.40\n",
      "4                 (35.3 x 27.7cm.)       cm      35.30     27.70    977.81\n",
      "...                            ...      ...        ...       ...       ...\n",
      "1182             (15.5 x 24.1 cm.)       cm      15.50     24.10    373.55\n",
      "1183                             0  unknown       0.00       NaN       NaN\n",
      "1184                             0  unknown       0.00       NaN       NaN\n",
      "1185             (55.6 x 45.9 cm.)       cm      55.60     45.90   2552.04\n",
      "1186  (365 x 248mm to 403 x 277mm)       mm      36.50     24.80    905.20\n",
      "\n",
      "[1180 rows x 5 columns]\n"
     ]
    }
   ],
   "source": [
    "# Display the dataset with the converted values and calculated area\n",
    "print(dataset[['dimension_copy', 'unit', 'height_cm', 'width_cm', 'area_cm2']])"
   ]
  },
  {
   "cell_type": "code",
   "execution_count": 45,
   "id": "807df305",
   "metadata": {},
   "outputs": [
    {
     "name": "stdout",
     "output_type": "stream",
     "text": [
      "count     831.00\n",
      "mean     7002.93\n",
      "std     12596.48\n",
      "min        64.00\n",
      "25%       871.86\n",
      "50%      2535.24\n",
      "75%      6795.19\n",
      "max     92407.00\n",
      "Name: area_cm2, dtype: float64\n"
     ]
    }
   ],
   "source": [
    "# Calculate descriptive statistics for 'area_cm2'\n",
    "descriptive_stats = dataset['area_cm2'].describe()\n",
    "print(descriptive_stats)"
   ]
  },
  {
   "cell_type": "markdown",
   "id": "838288b3",
   "metadata": {},
   "source": [
    "## Categorizing Artworks\n",
    "\n",
    "Drawing from insights on [The Artling](https://theartling.com/en/artzine/artwork-choose-right-size-space/), I identified the following categories for artwork sizes:\n",
    "\n",
    "- **Small**: 18-24 inches\n",
    "- **Medium**: 25-32 inches\n",
    "- **Large**: 33-40 inches\n",
    "- **Oversized**: 41 inches or larger\n",
    "\n",
    "However, to tailor these categories to this dataset, I adopted a hybrid approach, blending the thresholds proposed by the website with the percentiles from our dataset. This ensured that the thresholds reflected both external definitions and the actual distribution of artwork sizes in our dataset."
   ]
  },
  {
   "cell_type": "code",
   "execution_count": 46,
   "id": "d5364dd3",
   "metadata": {
    "scrolled": true
   },
   "outputs": [
    {
     "data": {
      "text/html": [
       "<div>\n",
       "<style scoped>\n",
       "    .dataframe tbody tr th:only-of-type {\n",
       "        vertical-align: middle;\n",
       "    }\n",
       "\n",
       "    .dataframe tbody tr th {\n",
       "        vertical-align: top;\n",
       "    }\n",
       "\n",
       "    .dataframe thead th {\n",
       "        text-align: right;\n",
       "    }\n",
       "</style>\n",
       "<table border=\"1\" class=\"dataframe\">\n",
       "  <thead>\n",
       "    <tr style=\"text-align: right;\">\n",
       "      <th></th>\n",
       "      <th>artist</th>\n",
       "      <th>birth</th>\n",
       "      <th>death</th>\n",
       "      <th>age</th>\n",
       "      <th>alive</th>\n",
       "      <th>doc</th>\n",
       "      <th>price</th>\n",
       "      <th>low_estimate</th>\n",
       "      <th>high_estimate</th>\n",
       "      <th>sold</th>\n",
       "      <th>...</th>\n",
       "      <th>log_pop</th>\n",
       "      <th>scaled_log_pop</th>\n",
       "      <th>dimension_copy</th>\n",
       "      <th>unit</th>\n",
       "      <th>height</th>\n",
       "      <th>width</th>\n",
       "      <th>height_cm</th>\n",
       "      <th>width_cm</th>\n",
       "      <th>area_cm2</th>\n",
       "      <th>art_category</th>\n",
       "    </tr>\n",
       "  </thead>\n",
       "  <tbody>\n",
       "    <tr>\n",
       "      <th>0</th>\n",
       "      <td>moise kisling</td>\n",
       "      <td>1891</td>\n",
       "      <td>1953</td>\n",
       "      <td>62</td>\n",
       "      <td>0</td>\n",
       "      <td>1931</td>\n",
       "      <td>81250.00</td>\n",
       "      <td>40000</td>\n",
       "      <td>60000</td>\n",
       "      <td>1</td>\n",
       "      <td>...</td>\n",
       "      <td>10.03</td>\n",
       "      <td>2.26</td>\n",
       "      <td>(73 x 54 cm.)</td>\n",
       "      <td>cm</td>\n",
       "      <td>73.00</td>\n",
       "      <td>54.00</td>\n",
       "      <td>73.00</td>\n",
       "      <td>54.00</td>\n",
       "      <td>3942.00</td>\n",
       "      <td>Medium</td>\n",
       "    </tr>\n",
       "    <tr>\n",
       "      <th>1</th>\n",
       "      <td>george edward lodge</td>\n",
       "      <td>1860</td>\n",
       "      <td>1954</td>\n",
       "      <td>94</td>\n",
       "      <td>0</td>\n",
       "      <td>0</td>\n",
       "      <td>2656.25</td>\n",
       "      <td>1500</td>\n",
       "      <td>2250</td>\n",
       "      <td>1</td>\n",
       "      <td>...</td>\n",
       "      <td>15.39</td>\n",
       "      <td>7.37</td>\n",
       "      <td>(34.6 x 24.7 cm.)</td>\n",
       "      <td>cm</td>\n",
       "      <td>34.60</td>\n",
       "      <td>24.70</td>\n",
       "      <td>34.60</td>\n",
       "      <td>24.70</td>\n",
       "      <td>854.62</td>\n",
       "      <td>Small</td>\n",
       "    </tr>\n",
       "    <tr>\n",
       "      <th>2</th>\n",
       "      <td>helen frankenthaler</td>\n",
       "      <td>1928</td>\n",
       "      <td>2011</td>\n",
       "      <td>83</td>\n",
       "      <td>0</td>\n",
       "      <td>1968</td>\n",
       "      <td>663750.00</td>\n",
       "      <td>300000</td>\n",
       "      <td>500000</td>\n",
       "      <td>1</td>\n",
       "      <td>...</td>\n",
       "      <td>10.24</td>\n",
       "      <td>2.45</td>\n",
       "      <td>(304.8 x 208.2 cm.)</td>\n",
       "      <td>cm</td>\n",
       "      <td>304.80</td>\n",
       "      <td>208.20</td>\n",
       "      <td>304.80</td>\n",
       "      <td>208.20</td>\n",
       "      <td>63459.36</td>\n",
       "      <td>Oversized</td>\n",
       "    </tr>\n",
       "    <tr>\n",
       "      <th>3</th>\n",
       "      <td>sir john alfred arnesby brown</td>\n",
       "      <td>1866</td>\n",
       "      <td>1955</td>\n",
       "      <td>89</td>\n",
       "      <td>0</td>\n",
       "      <td>0</td>\n",
       "      <td>26562.50</td>\n",
       "      <td>15000</td>\n",
       "      <td>22500</td>\n",
       "      <td>1</td>\n",
       "      <td>...</td>\n",
       "      <td>7.66</td>\n",
       "      <td>0.00</td>\n",
       "      <td>(66 x 91.4 cm.)</td>\n",
       "      <td>cm</td>\n",
       "      <td>66.00</td>\n",
       "      <td>91.40</td>\n",
       "      <td>66.00</td>\n",
       "      <td>91.40</td>\n",
       "      <td>6032.40</td>\n",
       "      <td>Large</td>\n",
       "    </tr>\n",
       "    <tr>\n",
       "      <th>4</th>\n",
       "      <td>raymond pettibon</td>\n",
       "      <td>1957</td>\n",
       "      <td>0</td>\n",
       "      <td>65</td>\n",
       "      <td>1</td>\n",
       "      <td>1987</td>\n",
       "      <td>9375.00</td>\n",
       "      <td>3750</td>\n",
       "      <td>6250</td>\n",
       "      <td>1</td>\n",
       "      <td>...</td>\n",
       "      <td>10.69</td>\n",
       "      <td>2.88</td>\n",
       "      <td>(35.3 x 27.7cm.)</td>\n",
       "      <td>cm</td>\n",
       "      <td>35.30</td>\n",
       "      <td>27.70</td>\n",
       "      <td>35.30</td>\n",
       "      <td>27.70</td>\n",
       "      <td>977.81</td>\n",
       "      <td>Small</td>\n",
       "    </tr>\n",
       "  </tbody>\n",
       "</table>\n",
       "<p>5 rows × 30 columns</p>\n",
       "</div>"
      ],
      "text/plain": [
       "                          artist  birth  death  age  alive   doc     price  \\\n",
       "0                 moise kisling    1891   1953   62      0  1931  81250.00   \n",
       "1           george edward lodge    1860   1954   94      0     0   2656.25   \n",
       "2           helen frankenthaler    1928   2011   83      0  1968 663750.00   \n",
       "3  sir john alfred arnesby brown   1866   1955   89      0     0  26562.50   \n",
       "4              raymond pettibon    1957      0   65      1  1987   9375.00   \n",
       "\n",
       "   low_estimate  high_estimate  sold  ...  log_pop scaled_log_pop  \\\n",
       "0         40000          60000     1  ...    10.03           2.26   \n",
       "1          1500           2250     1  ...    15.39           7.37   \n",
       "2        300000         500000     1  ...    10.24           2.45   \n",
       "3         15000          22500     1  ...     7.66           0.00   \n",
       "4          3750           6250     1  ...    10.69           2.88   \n",
       "\n",
       "        dimension_copy unit  height  width  height_cm  width_cm  area_cm2  \\\n",
       "0        (73 x 54 cm.)   cm   73.00  54.00      73.00     54.00   3942.00   \n",
       "1    (34.6 x 24.7 cm.)   cm   34.60  24.70      34.60     24.70    854.62   \n",
       "2  (304.8 x 208.2 cm.)   cm  304.80 208.20     304.80    208.20  63459.36   \n",
       "3      (66 x 91.4 cm.)   cm   66.00  91.40      66.00     91.40   6032.40   \n",
       "4     (35.3 x 27.7cm.)   cm   35.30  27.70      35.30     27.70    977.81   \n",
       "\n",
       "  art_category  \n",
       "0       Medium  \n",
       "1        Small  \n",
       "2    Oversized  \n",
       "3        Large  \n",
       "4        Small  \n",
       "\n",
       "[5 rows x 30 columns]"
      ]
     },
     "execution_count": 46,
     "metadata": {},
     "output_type": "execute_result"
    }
   ],
   "source": [
    "# Define the hybrid thresholds\n",
    "small_threshold = (3715.6 + 871.86) / 2\n",
    "medium_threshold = (6607.8 + 2535.24) / 2\n",
    "large_threshold = (10323.4 + 6795.19) / 2\n",
    "\n",
    "# Categorize artworks based on the hybrid thresholds\n",
    "def categorize_artwork(area):\n",
    "    if area <= small_threshold:\n",
    "        return 'Small'\n",
    "    elif area <= medium_threshold:\n",
    "        return 'Medium'\n",
    "    elif area <= large_threshold:\n",
    "        return 'Large'\n",
    "    else:\n",
    "        return 'Oversized'\n",
    "\n",
    "dataset['art_category'] = dataset['area_cm2'].apply(categorize_artwork)\n",
    "\n",
    "# Display the first few rows of the dataset to see the new 'art_category' column\n",
    "dataset.head()"
   ]
  },
  {
   "cell_type": "markdown",
   "id": "e7d8dd67",
   "metadata": {},
   "source": [
    "## Results\n",
    "\n",
    "After applying the hybrid approach, I added a new column to the dataset, `art_category`, which classifies each artwork into one of the above-mentioned categories based on its area in cm^2."
   ]
  },
  {
   "cell_type": "markdown",
   "id": "33d5dda2",
   "metadata": {},
   "source": [
    "----------------------------------------------------------------------------"
   ]
  },
  {
   "cell_type": "markdown",
   "id": "3a54339e",
   "metadata": {},
   "source": [
    "# Estimating the Accuracy of Artwork Pricing:\n",
    "\n",
    "The `Est Accuracy` variable was derived to understand how the actual selling price of an artwork compares to its pre-auction estimated price range. The categorization is as follows:\n",
    "\n",
    "- **Over Estimate (1)**: The artwork sold for a price greater than or equal to its high estimate.\n",
    "- **Under Estimate (-1)**: The artwork sold for a price less than or equal to its low estimate.\n",
    "- **Within Estimate (0)**: The artwork sold for a price that falls within its estimated range (between low and high estimates, inclusive).\n"
   ]
  },
  {
   "cell_type": "code",
   "execution_count": 47,
   "id": "441c06b5",
   "metadata": {},
   "outputs": [],
   "source": [
    "def categorize_estimate(value):\n",
    "    if value == 1:\n",
    "        return \"Over Estimate\"\n",
    "    elif value == -1:\n",
    "        return \"Under Estimate\"\n",
    "    else:\n",
    "        return \"Within Range\"\n",
    "    \n",
    "dataset['est_category'] = dataset['est accuracy'].apply(categorize_estimate)"
   ]
  },
  {
   "cell_type": "markdown",
   "id": "afd2f481",
   "metadata": {},
   "source": [
    "## Visualizing Estimate Categories\n",
    "\n",
    "To visualize the distribution of these categories, I used a countplot to show the number of artworks falling into each category. This provides insights into how accurately artworks are estimated in the market."
   ]
  },
  {
   "cell_type": "code",
   "execution_count": 48,
   "id": "6c8bacff",
   "metadata": {},
   "outputs": [
    {
     "data": {
      "image/png": "[encoded data removed]",
      "text/plain": [
       "<Figure size 720x432 with 1 Axes>"
      ]
     },
     "metadata": {},
     "output_type": "display_data"
    }
   ],
   "source": [
    "estimate_counts = dataset['est_category'].value_counts()\n",
    "\n",
    "sns.set_style(\"whitegrid\")\n",
    "plt.figure(figsize=(10, 6))\n",
    "sns.countplot(data=dataset, x='est_category', order=['Under Estimate', 'Within Range', 'Over Estimate'])\n",
    "plt.title('Distribution of Estimate Categories')\n",
    "plt.ylabel('Number of Artworks')\n",
    "plt.show()"
   ]
  },
  {
   "cell_type": "markdown",
   "id": "28506207",
   "metadata": {},
   "source": [
    "# Artist Demographics\n",
    "Moving on to artist demographics, I analyzed various attributes, including birth and death years, age, and whether the artist is currently alive. Understanding these characteristics helps us gain insights into the artists themselves."
   ]
  },
  {
   "cell_type": "code",
   "execution_count": 49,
   "id": "459c9160",
   "metadata": {},
   "outputs": [
    {
     "data": {
      "image/png": "[encoded data removed]",
      "text/plain": [
       "<Figure size 576x432 with 1 Axes>"
      ]
     },
     "metadata": {},
     "output_type": "display_data"
    }
   ],
   "source": [
    "alive_counts = dataset['alive'].value_counts()\n",
    "\n",
    "labels = ['Dead', 'Alive'] if 0 in alive_counts.index else ['Alive', 'Dead']\n",
    "plt.figure(figsize=(8, 6))\n",
    "plt.pie(alive_counts, labels=labels, autopct='%1.1f%%', startangle=90)\n",
    "plt.title('Proportion of Alive vs Dead Artists')\n",
    "plt.show()"
   ]
  },
  {
   "cell_type": "markdown",
   "id": "d64c7386",
   "metadata": {},
   "source": [
    "## Transformation of `closeyear` \n",
    "I transformed the `closeyear` values to ensure consistency in the dataset. This transformation allows for better analysis and interpretation of the data."
   ]
  },
  {
   "cell_type": "code",
   "execution_count": 50,
   "id": "4adcc9cd",
   "metadata": {},
   "outputs": [
    {
     "data": {
      "text/plain": [
       "array([  16,   17,   13,   12,   18,   15,   22,   19,   14,   20,   21,\n",
       "       2019, 2020, 2021], dtype=int64)"
      ]
     },
     "execution_count": 50,
     "metadata": {},
     "output_type": "execute_result"
    }
   ],
   "source": [
    "unique_closeyear = dataset['closeyear'].unique()\n",
    "unique_closeyear"
   ]
  },
  {
   "cell_type": "code",
   "execution_count": 51,
   "id": "c22c0d35",
   "metadata": {},
   "outputs": [
    {
     "data": {
      "text/plain": [
       "array([2016, 2017, 2013, 2012, 2018, 2015, 2022, 2019, 2014, 2020, 2021],\n",
       "      dtype=int64)"
      ]
     },
     "execution_count": 51,
     "metadata": {},
     "output_type": "execute_result"
    }
   ],
   "source": [
    "# Transform the 'closeyear' values\n",
    "def transform_year(year):\n",
    "    if year < 100:  # Assuming no year is below 2000 in the dataset\n",
    "        return 2000 + year\n",
    "    return year\n",
    "\n",
    "dataset['closeyear'] = dataset['closeyear'].apply(transform_year)\n",
    "unique_transformed_closeyear = dataset['closeyear'].unique()\n",
    "unique_transformed_closeyear"
   ]
  },
  {
   "cell_type": "markdown",
   "id": "8698a06d",
   "metadata": {},
   "source": [
    "## Artist Mortality Analysis\n",
    "### `Years Since Death`\n",
    "\n",
    "To understand the impact of an artist's death on artwork pricing, I calculated the number of years since each artist's death. This metric can help us determine whether there is any correlation between an artist's passing and the prices of their artworks."
   ]
  },
  {
   "cell_type": "code",
   "execution_count": 52,
   "id": "186c7553",
   "metadata": {},
   "outputs": [],
   "source": [
    "dataset['years_since_death'] = dataset.apply(lambda row: row['closeyear'] - row['death'] if row['alive'] == 0 else 0, axis=1)"
   ]
  },
  {
   "cell_type": "markdown",
   "id": "0b6167ad",
   "metadata": {},
   "source": [
    "### `Premature Death Identification`\n",
    "\n",
    "I also identified cases of premature artist deaths based on a defined threshold age. This analysis can provide insights into the potential impact of an artist's lifespan on their career and artwork pricing."
   ]
  },
  {
   "cell_type": "code",
   "execution_count": 53,
   "id": "92ed52be",
   "metadata": {},
   "outputs": [
    {
     "data": {
      "text/html": [
       "<div>\n",
       "<style scoped>\n",
       "    .dataframe tbody tr th:only-of-type {\n",
       "        vertical-align: middle;\n",
       "    }\n",
       "\n",
       "    .dataframe tbody tr th {\n",
       "        vertical-align: top;\n",
       "    }\n",
       "\n",
       "    .dataframe thead th {\n",
       "        text-align: right;\n",
       "    }\n",
       "</style>\n",
       "<table border=\"1\" class=\"dataframe\">\n",
       "  <thead>\n",
       "    <tr style=\"text-align: right;\">\n",
       "      <th></th>\n",
       "      <th>artist</th>\n",
       "      <th>alive</th>\n",
       "      <th>years_since_death</th>\n",
       "      <th>premature_death</th>\n",
       "    </tr>\n",
       "  </thead>\n",
       "  <tbody>\n",
       "    <tr>\n",
       "      <th>0</th>\n",
       "      <td>moise kisling</td>\n",
       "      <td>0</td>\n",
       "      <td>63</td>\n",
       "      <td>0</td>\n",
       "    </tr>\n",
       "    <tr>\n",
       "      <th>1</th>\n",
       "      <td>george edward lodge</td>\n",
       "      <td>0</td>\n",
       "      <td>63</td>\n",
       "      <td>0</td>\n",
       "    </tr>\n",
       "    <tr>\n",
       "      <th>2</th>\n",
       "      <td>helen frankenthaler</td>\n",
       "      <td>0</td>\n",
       "      <td>2</td>\n",
       "      <td>0</td>\n",
       "    </tr>\n",
       "    <tr>\n",
       "      <th>3</th>\n",
       "      <td>sir john alfred arnesby brown</td>\n",
       "      <td>0</td>\n",
       "      <td>57</td>\n",
       "      <td>0</td>\n",
       "    </tr>\n",
       "    <tr>\n",
       "      <th>4</th>\n",
       "      <td>raymond pettibon</td>\n",
       "      <td>1</td>\n",
       "      <td>0</td>\n",
       "      <td>0</td>\n",
       "    </tr>\n",
       "    <tr>\n",
       "      <th>...</th>\n",
       "      <td>...</td>\n",
       "      <td>...</td>\n",
       "      <td>...</td>\n",
       "      <td>...</td>\n",
       "    </tr>\n",
       "    <tr>\n",
       "      <th>1182</th>\n",
       "      <td>walter richard sickert</td>\n",
       "      <td>0</td>\n",
       "      <td>70</td>\n",
       "      <td>0</td>\n",
       "    </tr>\n",
       "    <tr>\n",
       "      <th>1183</th>\n",
       "      <td>robert delaunay</td>\n",
       "      <td>0</td>\n",
       "      <td>80</td>\n",
       "      <td>1</td>\n",
       "    </tr>\n",
       "    <tr>\n",
       "      <th>1184</th>\n",
       "      <td>henry moore</td>\n",
       "      <td>0</td>\n",
       "      <td>32</td>\n",
       "      <td>0</td>\n",
       "    </tr>\n",
       "    <tr>\n",
       "      <th>1185</th>\n",
       "      <td>walter gay</td>\n",
       "      <td>0</td>\n",
       "      <td>81</td>\n",
       "      <td>0</td>\n",
       "    </tr>\n",
       "    <tr>\n",
       "      <th>1186</th>\n",
       "      <td>mitelli, giuseppe maria</td>\n",
       "      <td>0</td>\n",
       "      <td>301</td>\n",
       "      <td>0</td>\n",
       "    </tr>\n",
       "  </tbody>\n",
       "</table>\n",
       "<p>1180 rows × 4 columns</p>\n",
       "</div>"
      ],
      "text/plain": [
       "                             artist  alive  years_since_death  premature_death\n",
       "0                    moise kisling       0                 63                0\n",
       "1              george edward lodge       0                 63                0\n",
       "2              helen frankenthaler       0                  2                0\n",
       "3     sir john alfred arnesby brown      0                 57                0\n",
       "4                 raymond pettibon       1                  0                0\n",
       "...                             ...    ...                ...              ...\n",
       "1182         walter richard sickert      0                 70                0\n",
       "1183               robert delaunay       0                 80                1\n",
       "1184                   henry moore       0                 32                0\n",
       "1185                    walter gay       0                 81                0\n",
       "1186        mitelli, giuseppe maria      0                301                0\n",
       "\n",
       "[1180 rows x 4 columns]"
      ]
     },
     "execution_count": 53,
     "metadata": {},
     "output_type": "execute_result"
    }
   ],
   "source": [
    "threshold_age_for_premature_death = 60\n",
    "dataset['premature_death'] = dataset.apply(lambda row: 1 if row['age'] <= threshold_age_for_premature_death and row['alive'] == 0 else 0, axis=1)\n",
    "dataset[['artist', 'alive', 'years_since_death', 'premature_death']]"
   ]
  },
  {
   "cell_type": "code",
   "execution_count": 54,
   "id": "202bd061",
   "metadata": {
    "scrolled": false
   },
   "outputs": [
    {
     "data": {
      "image/png": "[encoded data removed]",
      "text/plain": [
       "<Figure size 864x576 with 1 Axes>"
      ]
     },
     "metadata": {},
     "output_type": "display_data"
    }
   ],
   "source": [
    "filtered_dataset = dataset[dataset['years_since_death'] > 0]\n",
    "# Define a custom color palette\n",
    "custom_palette = [\"#3498db\"]  \n",
    "sns.set_style(\"whitegrid\")\n",
    "sns.set_palette(custom_palette)\n",
    "plt.figure(figsize=(12, 8))\n",
    "sns.scatterplot(x=filtered_dataset['years_since_death'], y=filtered_dataset['log_price'])\n",
    "plt.title('Relationship between Years Since Death and Price', fontsize=16)\n",
    "plt.xlabel('Years Since Death', fontsize=14)\n",
    "plt.ylabel('Price', fontsize=14)\n",
    "\n",
    "# Display the plot\n",
    "plt.show()"
   ]
  },
  {
   "cell_type": "markdown",
   "id": "a8353ab2",
   "metadata": {},
   "source": [
    "# `closemonth` Variable"
   ]
  },
  {
   "cell_type": "markdown",
   "id": "a1ca2ff5",
   "metadata": {},
   "source": [
    "### Transformation of `closemonth` Variable\n",
    "\n",
    "The `closemonth` variable, which originally represented the month in which an artwork was sold, has been transformed into a new categorical variable called `season`. This transformation was based on the typical seasonal divisions:\n",
    "\n",
    "- **Winter**: December, January, February\n",
    "- **Spring**: March, April, May\n",
    "- **Summer**: June, July, August\n",
    "- **Fall**: September, October, November\n",
    "\n",
    "The new `season` column now represents the season in which each artwork was sold."
   ]
  },
  {
   "cell_type": "code",
   "execution_count": 55,
   "id": "08e9953a",
   "metadata": {},
   "outputs": [
    {
     "data": {
      "text/plain": [
       "0       11\n",
       "1       12\n",
       "2        5\n",
       "3       12\n",
       "4        9\n",
       "        ..\n",
       "1182    12\n",
       "1183     4\n",
       "1184     2\n",
       "1185    11\n",
       "1186    10\n",
       "Name: closemonth, Length: 1180, dtype: int64"
      ]
     },
     "execution_count": 55,
     "metadata": {},
     "output_type": "execute_result"
    }
   ],
   "source": [
    "dataset['closemonth']"
   ]
  },
  {
   "cell_type": "code",
   "execution_count": 56,
   "id": "2975868d",
   "metadata": {},
   "outputs": [
    {
     "data": {
      "image/png": "[encoded data removed]",
      "text/plain": [
       "<Figure size 432x288 with 1 Axes>"
      ]
     },
     "metadata": {},
     "output_type": "display_data"
    }
   ],
   "source": [
    "dataset['closemonth'].hist(bins=12, edgecolor='black')\n",
    "plt.title('Distribuzione dei Mesi di Chiusura')\n",
    "plt.xlabel('Mese')\n",
    "plt.ylabel('Frequenza')\n",
    "plt.xticks(range(1, 13))\n",
    "plt.show()"
   ]
  },
  {
   "cell_type": "code",
   "execution_count": 57,
   "id": "432cc5b8",
   "metadata": {},
   "outputs": [],
   "source": [
    "def month_to_season(month):\n",
    "    if month in [12, 1, 2]:\n",
    "        return 'Winter'\n",
    "    elif month in [3, 4, 5]:\n",
    "        return 'Spring'\n",
    "    elif month in [6, 7, 8]:\n",
    "        return 'Summer'\n",
    "    else:\n",
    "        return 'Fall'\n",
    "\n",
    "dataset['season'] = dataset['closemonth'].apply(month_to_season)"
   ]
  },
  {
   "cell_type": "code",
   "execution_count": 58,
   "id": "0a94e5d8",
   "metadata": {},
   "outputs": [],
   "source": [
    "dataset = dataset.drop(columns=['closemonth'])"
   ]
  },
  {
   "cell_type": "code",
   "execution_count": 59,
   "id": "7ae2e09b",
   "metadata": {},
   "outputs": [
    {
     "data": {
      "image/png": "[encoded data removed]",
      "text/plain": [
       "<Figure size 720x432 with 1 Axes>"
      ]
     },
     "metadata": {},
     "output_type": "display_data"
    }
   ],
   "source": [
    "# Define the custom color palette\n",
    "custom_palette = {\n",
    "    'Spring': 'pink',\n",
    "    'Summer': 'yellow',\n",
    "    'Fall': 'brown',\n",
    "    'Winter': 'lightblue'\n",
    "}\n",
    "\n",
    "\n",
    "plt.figure(figsize=(10, 6))\n",
    "sns.countplot(data=dataset, x='season', order=['Spring', 'Summer', 'Fall', 'Winter'], palette=custom_palette)\n",
    "plt.title('Distribution of Observations by Season', fontsize=15)\n",
    "plt.xlabel('Season', fontsize=12)\n",
    "plt.ylabel('Number of Observations', fontsize=12)\n",
    "plt.show()"
   ]
  },
  {
   "cell_type": "markdown",
   "id": "0ff05db7",
   "metadata": {},
   "source": [
    "### Dropping Unnecessary Columns\n",
    "\n",
    "Initially, we removed columns that are not required for our analysis."
   ]
  },
  {
   "cell_type": "code",
   "execution_count": 60,
   "id": "f99fc214",
   "metadata": {},
   "outputs": [
    {
     "data": {
      "text/html": [
       "<div>\n",
       "<style scoped>\n",
       "    .dataframe tbody tr th:only-of-type {\n",
       "        vertical-align: middle;\n",
       "    }\n",
       "\n",
       "    .dataframe tbody tr th {\n",
       "        vertical-align: top;\n",
       "    }\n",
       "\n",
       "    .dataframe thead th {\n",
       "        text-align: right;\n",
       "    }\n",
       "</style>\n",
       "<table border=\"1\" class=\"dataframe\">\n",
       "  <thead>\n",
       "    <tr style=\"text-align: right;\">\n",
       "      <th></th>\n",
       "      <th>artist</th>\n",
       "      <th>birth</th>\n",
       "      <th>death</th>\n",
       "      <th>age</th>\n",
       "      <th>alive</th>\n",
       "      <th>doc</th>\n",
       "      <th>price</th>\n",
       "      <th>low_estimate</th>\n",
       "      <th>high_estimate</th>\n",
       "      <th>sold</th>\n",
       "      <th>...</th>\n",
       "      <th>height</th>\n",
       "      <th>width</th>\n",
       "      <th>height_cm</th>\n",
       "      <th>width_cm</th>\n",
       "      <th>area_cm2</th>\n",
       "      <th>art_category</th>\n",
       "      <th>est_category</th>\n",
       "      <th>years_since_death</th>\n",
       "      <th>premature_death</th>\n",
       "      <th>season</th>\n",
       "    </tr>\n",
       "  </thead>\n",
       "  <tbody>\n",
       "    <tr>\n",
       "      <th>0</th>\n",
       "      <td>moise kisling</td>\n",
       "      <td>1891</td>\n",
       "      <td>1953</td>\n",
       "      <td>62</td>\n",
       "      <td>0</td>\n",
       "      <td>1931</td>\n",
       "      <td>81250.00</td>\n",
       "      <td>40000</td>\n",
       "      <td>60000</td>\n",
       "      <td>1</td>\n",
       "      <td>...</td>\n",
       "      <td>73.00</td>\n",
       "      <td>54.00</td>\n",
       "      <td>73.00</td>\n",
       "      <td>54.00</td>\n",
       "      <td>3942.00</td>\n",
       "      <td>Medium</td>\n",
       "      <td>Over Estimate</td>\n",
       "      <td>63</td>\n",
       "      <td>0</td>\n",
       "      <td>Fall</td>\n",
       "    </tr>\n",
       "    <tr>\n",
       "      <th>1</th>\n",
       "      <td>george edward lodge</td>\n",
       "      <td>1860</td>\n",
       "      <td>1954</td>\n",
       "      <td>94</td>\n",
       "      <td>0</td>\n",
       "      <td>0</td>\n",
       "      <td>2656.25</td>\n",
       "      <td>1500</td>\n",
       "      <td>2250</td>\n",
       "      <td>1</td>\n",
       "      <td>...</td>\n",
       "      <td>34.60</td>\n",
       "      <td>24.70</td>\n",
       "      <td>34.60</td>\n",
       "      <td>24.70</td>\n",
       "      <td>854.62</td>\n",
       "      <td>Small</td>\n",
       "      <td>Over Estimate</td>\n",
       "      <td>63</td>\n",
       "      <td>0</td>\n",
       "      <td>Winter</td>\n",
       "    </tr>\n",
       "    <tr>\n",
       "      <th>2</th>\n",
       "      <td>helen frankenthaler</td>\n",
       "      <td>1928</td>\n",
       "      <td>2011</td>\n",
       "      <td>83</td>\n",
       "      <td>0</td>\n",
       "      <td>1968</td>\n",
       "      <td>663750.00</td>\n",
       "      <td>300000</td>\n",
       "      <td>500000</td>\n",
       "      <td>1</td>\n",
       "      <td>...</td>\n",
       "      <td>304.80</td>\n",
       "      <td>208.20</td>\n",
       "      <td>304.80</td>\n",
       "      <td>208.20</td>\n",
       "      <td>63459.36</td>\n",
       "      <td>Oversized</td>\n",
       "      <td>Over Estimate</td>\n",
       "      <td>2</td>\n",
       "      <td>0</td>\n",
       "      <td>Spring</td>\n",
       "    </tr>\n",
       "    <tr>\n",
       "      <th>3</th>\n",
       "      <td>sir john alfred arnesby brown</td>\n",
       "      <td>1866</td>\n",
       "      <td>1955</td>\n",
       "      <td>89</td>\n",
       "      <td>0</td>\n",
       "      <td>0</td>\n",
       "      <td>26562.50</td>\n",
       "      <td>15000</td>\n",
       "      <td>22500</td>\n",
       "      <td>1</td>\n",
       "      <td>...</td>\n",
       "      <td>66.00</td>\n",
       "      <td>91.40</td>\n",
       "      <td>66.00</td>\n",
       "      <td>91.40</td>\n",
       "      <td>6032.40</td>\n",
       "      <td>Large</td>\n",
       "      <td>Over Estimate</td>\n",
       "      <td>57</td>\n",
       "      <td>0</td>\n",
       "      <td>Winter</td>\n",
       "    </tr>\n",
       "    <tr>\n",
       "      <th>4</th>\n",
       "      <td>raymond pettibon</td>\n",
       "      <td>1957</td>\n",
       "      <td>0</td>\n",
       "      <td>65</td>\n",
       "      <td>1</td>\n",
       "      <td>1987</td>\n",
       "      <td>9375.00</td>\n",
       "      <td>3750</td>\n",
       "      <td>6250</td>\n",
       "      <td>1</td>\n",
       "      <td>...</td>\n",
       "      <td>35.30</td>\n",
       "      <td>27.70</td>\n",
       "      <td>35.30</td>\n",
       "      <td>27.70</td>\n",
       "      <td>977.81</td>\n",
       "      <td>Small</td>\n",
       "      <td>Over Estimate</td>\n",
       "      <td>0</td>\n",
       "      <td>0</td>\n",
       "      <td>Fall</td>\n",
       "    </tr>\n",
       "    <tr>\n",
       "      <th>...</th>\n",
       "      <td>...</td>\n",
       "      <td>...</td>\n",
       "      <td>...</td>\n",
       "      <td>...</td>\n",
       "      <td>...</td>\n",
       "      <td>...</td>\n",
       "      <td>...</td>\n",
       "      <td>...</td>\n",
       "      <td>...</td>\n",
       "      <td>...</td>\n",
       "      <td>...</td>\n",
       "      <td>...</td>\n",
       "      <td>...</td>\n",
       "      <td>...</td>\n",
       "      <td>...</td>\n",
       "      <td>...</td>\n",
       "      <td>...</td>\n",
       "      <td>...</td>\n",
       "      <td>...</td>\n",
       "      <td>...</td>\n",
       "      <td>...</td>\n",
       "    </tr>\n",
       "    <tr>\n",
       "      <th>1182</th>\n",
       "      <td>walter richard sickert</td>\n",
       "      <td>1860</td>\n",
       "      <td>1942</td>\n",
       "      <td>82</td>\n",
       "      <td>0</td>\n",
       "      <td>0</td>\n",
       "      <td>25000.00</td>\n",
       "      <td>25000</td>\n",
       "      <td>37500</td>\n",
       "      <td>1</td>\n",
       "      <td>...</td>\n",
       "      <td>15.50</td>\n",
       "      <td>24.10</td>\n",
       "      <td>15.50</td>\n",
       "      <td>24.10</td>\n",
       "      <td>373.55</td>\n",
       "      <td>Small</td>\n",
       "      <td>Under Estimate</td>\n",
       "      <td>70</td>\n",
       "      <td>0</td>\n",
       "      <td>Winter</td>\n",
       "    </tr>\n",
       "    <tr>\n",
       "      <th>1183</th>\n",
       "      <td>robert delaunay</td>\n",
       "      <td>1885</td>\n",
       "      <td>1941</td>\n",
       "      <td>56</td>\n",
       "      <td>0</td>\n",
       "      <td>1922</td>\n",
       "      <td>651000.00</td>\n",
       "      <td>525000</td>\n",
       "      <td>840000</td>\n",
       "      <td>1</td>\n",
       "      <td>...</td>\n",
       "      <td>0.00</td>\n",
       "      <td>NaN</td>\n",
       "      <td>0.00</td>\n",
       "      <td>NaN</td>\n",
       "      <td>NaN</td>\n",
       "      <td>Oversized</td>\n",
       "      <td>Within Range</td>\n",
       "      <td>80</td>\n",
       "      <td>1</td>\n",
       "      <td>Spring</td>\n",
       "    </tr>\n",
       "    <tr>\n",
       "      <th>1184</th>\n",
       "      <td>henry moore</td>\n",
       "      <td>1898</td>\n",
       "      <td>1986</td>\n",
       "      <td>88</td>\n",
       "      <td>0</td>\n",
       "      <td>1975</td>\n",
       "      <td>985937.50</td>\n",
       "      <td>625000</td>\n",
       "      <td>875000</td>\n",
       "      <td>1</td>\n",
       "      <td>...</td>\n",
       "      <td>0.00</td>\n",
       "      <td>NaN</td>\n",
       "      <td>0.00</td>\n",
       "      <td>NaN</td>\n",
       "      <td>NaN</td>\n",
       "      <td>Oversized</td>\n",
       "      <td>Over Estimate</td>\n",
       "      <td>32</td>\n",
       "      <td>0</td>\n",
       "      <td>Winter</td>\n",
       "    </tr>\n",
       "    <tr>\n",
       "      <th>1185</th>\n",
       "      <td>walter gay</td>\n",
       "      <td>1856</td>\n",
       "      <td>1937</td>\n",
       "      <td>81</td>\n",
       "      <td>0</td>\n",
       "      <td>0</td>\n",
       "      <td>8125.00</td>\n",
       "      <td>4000</td>\n",
       "      <td>6000</td>\n",
       "      <td>1</td>\n",
       "      <td>...</td>\n",
       "      <td>55.60</td>\n",
       "      <td>45.90</td>\n",
       "      <td>55.60</td>\n",
       "      <td>45.90</td>\n",
       "      <td>2552.04</td>\n",
       "      <td>Medium</td>\n",
       "      <td>Over Estimate</td>\n",
       "      <td>81</td>\n",
       "      <td>0</td>\n",
       "      <td>Fall</td>\n",
       "    </tr>\n",
       "    <tr>\n",
       "      <th>1186</th>\n",
       "      <td>mitelli, giuseppe maria</td>\n",
       "      <td>1634</td>\n",
       "      <td>1718</td>\n",
       "      <td>84</td>\n",
       "      <td>0</td>\n",
       "      <td>0</td>\n",
       "      <td>17187.50</td>\n",
       "      <td>2500</td>\n",
       "      <td>3750</td>\n",
       "      <td>1</td>\n",
       "      <td>...</td>\n",
       "      <td>365.00</td>\n",
       "      <td>248.00</td>\n",
       "      <td>36.50</td>\n",
       "      <td>24.80</td>\n",
       "      <td>905.20</td>\n",
       "      <td>Small</td>\n",
       "      <td>Over Estimate</td>\n",
       "      <td>301</td>\n",
       "      <td>0</td>\n",
       "      <td>Fall</td>\n",
       "    </tr>\n",
       "  </tbody>\n",
       "</table>\n",
       "<p>1180 rows × 33 columns</p>\n",
       "</div>"
      ],
      "text/plain": [
       "                             artist  birth  death  age  alive   doc     price  \\\n",
       "0                    moise kisling    1891   1953   62      0  1931  81250.00   \n",
       "1              george edward lodge    1860   1954   94      0     0   2656.25   \n",
       "2              helen frankenthaler    1928   2011   83      0  1968 663750.00   \n",
       "3     sir john alfred arnesby brown   1866   1955   89      0     0  26562.50   \n",
       "4                 raymond pettibon    1957      0   65      1  1987   9375.00   \n",
       "...                             ...    ...    ...  ...    ...   ...       ...   \n",
       "1182         walter richard sickert   1860   1942   82      0     0  25000.00   \n",
       "1183               robert delaunay    1885   1941   56      0  1922 651000.00   \n",
       "1184                   henry moore    1898   1986   88      0  1975 985937.50   \n",
       "1185                    walter gay    1856   1937   81      0     0   8125.00   \n",
       "1186        mitelli, giuseppe maria   1634   1718   84      0     0  17187.50   \n",
       "\n",
       "      low_estimate  high_estimate  sold  ...  height  width  height_cm  \\\n",
       "0            40000          60000     1  ...   73.00  54.00      73.00   \n",
       "1             1500           2250     1  ...   34.60  24.70      34.60   \n",
       "2           300000         500000     1  ...  304.80 208.20     304.80   \n",
       "3            15000          22500     1  ...   66.00  91.40      66.00   \n",
       "4             3750           6250     1  ...   35.30  27.70      35.30   \n",
       "...            ...            ...   ...  ...     ...    ...        ...   \n",
       "1182         25000          37500     1  ...   15.50  24.10      15.50   \n",
       "1183        525000         840000     1  ...    0.00    NaN       0.00   \n",
       "1184        625000         875000     1  ...    0.00    NaN       0.00   \n",
       "1185          4000           6000     1  ...   55.60  45.90      55.60   \n",
       "1186          2500           3750     1  ...  365.00 248.00      36.50   \n",
       "\n",
       "     width_cm  area_cm2  art_category    est_category  years_since_death  \\\n",
       "0       54.00   3942.00        Medium   Over Estimate                 63   \n",
       "1       24.70    854.62         Small   Over Estimate                 63   \n",
       "2      208.20  63459.36     Oversized   Over Estimate                  2   \n",
       "3       91.40   6032.40         Large   Over Estimate                 57   \n",
       "4       27.70    977.81         Small   Over Estimate                  0   \n",
       "...       ...       ...           ...             ...                ...   \n",
       "1182    24.10    373.55         Small  Under Estimate                 70   \n",
       "1183      NaN       NaN     Oversized    Within Range                 80   \n",
       "1184      NaN       NaN     Oversized   Over Estimate                 32   \n",
       "1185    45.90   2552.04        Medium   Over Estimate                 81   \n",
       "1186    24.80    905.20         Small   Over Estimate                301   \n",
       "\n",
       "     premature_death  season  \n",
       "0                  0    Fall  \n",
       "1                  0  Winter  \n",
       "2                  0  Spring  \n",
       "3                  0  Winter  \n",
       "4                  0    Fall  \n",
       "...              ...     ...  \n",
       "1182               0  Winter  \n",
       "1183               1  Spring  \n",
       "1184               0  Winter  \n",
       "1185               0    Fall  \n",
       "1186               0    Fall  \n",
       "\n",
       "[1180 rows x 33 columns]"
      ]
     },
     "execution_count": 60,
     "metadata": {},
     "output_type": "execute_result"
    }
   ],
   "source": [
    "dataset"
   ]
  },
  {
   "cell_type": "code",
   "execution_count": 61,
   "id": "f8e0bcdf",
   "metadata": {},
   "outputs": [],
   "source": [
    "columns_to_drop = ['log_pop', 'popularity','artist', 'birth', 'death', 'age', 'sold','auct_title','dimension_copy', 'doc', 'dimension', 'close date', 'closeyear', 'price', 'low_estimate', 'high_estimate', 'unit', 'height', 'width', 'height_cm', 'width_cm', 'area_cm2', 'est accuracy']\n",
    "dataset = dataset.drop(columns=columns_to_drop)"
   ]
  },
  {
   "cell_type": "markdown",
   "id": "1874db9f",
   "metadata": {},
   "source": [
    "## CORRELATION MAP"
   ]
  },
  {
   "cell_type": "code",
   "execution_count": 62,
   "id": "4ac9e8ae",
   "metadata": {},
   "outputs": [
    {
     "data": {
      "image/png": "[encoded data removed]",
      "text/plain": [
       "<Figure size 864x720 with 2 Axes>"
      ]
     },
     "metadata": {},
     "output_type": "display_data"
    }
   ],
   "source": [
    "numeric_columns = dataset.select_dtypes(include=['number'])\n",
    "correlation_matrix = numeric_columns.corr()\n",
    "plt.figure(figsize=(12, 10))\n",
    "sns.heatmap(correlation_matrix, annot=True, cmap='coolwarm', linewidths=0.5)\n",
    "plt.title('Correlation Heatmap of Numeric Variables')\n",
    "plt.show()"
   ]
  },
  {
   "cell_type": "code",
   "execution_count": 77,
   "id": "3951f6a5",
   "metadata": {},
   "outputs": [
    {
     "name": "stdout",
     "output_type": "stream",
     "text": [
      "                   alive  log_price  titled  scaled_log_pop  \\\n",
      "alive               1.00      -0.02   -0.22            0.04   \n",
      "log_price          -0.02       1.00   -0.05            0.00   \n",
      "titled             -0.22      -0.05    1.00            0.06   \n",
      "scaled_log_pop      0.04       0.00    0.06            1.00   \n",
      "years_since_death  -0.40      -0.09    0.14           -0.06   \n",
      "premature_death    -0.17       0.07    0.05            0.05   \n",
      "\n",
      "                   years_since_death  premature_death  \n",
      "alive                          -0.40            -0.17  \n",
      "log_price                      -0.09             0.07  \n",
      "titled                          0.14             0.05  \n",
      "scaled_log_pop                 -0.06             0.05  \n",
      "years_since_death               1.00             0.23  \n",
      "premature_death                 0.23             1.00  \n"
     ]
    }
   ],
   "source": [
    "print(correlation_matrix)"
   ]
  },
  {
   "cell_type": "markdown",
   "id": "dab00900",
   "metadata": {},
   "source": [
    "### VIF Analysis\n",
    "\n",
    "The Variance Inflation Factor (VIF) is a measure used to detect the presence of multicollinearity in regression analyses. A VIF value greater than 10 is typically considered to indicate high multicollinearity."
   ]
  },
  {
   "cell_type": "code",
   "execution_count": 63,
   "id": "f84a1659",
   "metadata": {},
   "outputs": [
    {
     "name": "stdout",
     "output_type": "stream",
     "text": [
      "            Variable   VIF\n",
      "0              const 48.82\n",
      "1              alive  1.24\n",
      "2          log_price  1.02\n",
      "3             titled  1.06\n",
      "4     scaled_log_pop  1.01\n",
      "5  years_since_death  1.25\n",
      "6    premature_death  1.08\n"
     ]
    }
   ],
   "source": [
    "numeric_columns_const = sm.add_constant(numeric_columns)\n",
    "vif_data = pd.DataFrame()\n",
    "vif_data['Variable'] = numeric_columns_const.columns\n",
    "vif_data['VIF'] = [variance_inflation_factor(numeric_columns_const.values, i) for i in range(numeric_columns_const.shape[1])]\n",
    "print(vif_data)"
   ]
  },
  {
   "cell_type": "markdown",
   "id": "3d8ab9bf",
   "metadata": {},
   "source": [
    "From the provided VIF values:\n",
    "- All variables have VIF values well below 10, suggesting that there is no significant multicollinearity among the predictors.\n",
    "- The highest VIF value is for the `const` term, which is expected as it represents the intercept.\n",
    "- Other variables like `alive`, `years_since_death`, and `premature_death` have slightly higher VIF values compared to the rest, but they are still well within acceptable limits.\n",
    "\n",
    "Overall, the predictors in the model seem to be free from severe multicollinearity issues.\n"
   ]
  },
  {
   "cell_type": "markdown",
   "id": "c2c68d27",
   "metadata": {},
   "source": [
    "# Category Analysis and Dummy Variable Creation\n",
    "\n",
    "In this section, I'll explore the distribution of observations across each category and create dummy variables to represent these categories in our model.\n",
    "\n",
    "## Counting Observations for Each Category\n",
    "\n",
    "First, let's see how many items we have in each category."
   ]
  },
  {
   "cell_type": "code",
   "execution_count": 64,
   "id": "b8e9427b",
   "metadata": {},
   "outputs": [
    {
     "name": "stdout",
     "output_type": "stream",
     "text": [
      "\n",
      "Observations for doc_category:\n",
      " Unknown                                 586\n",
      "Post-War to Late '90s (1946-1999)       379\n",
      "Early 20th Century (1901-1945)          105\n",
      "Early 2000s to Modern (2000-present)     82\n",
      "Modern (1500-1900)                       28\n",
      "Name: doc_category, dtype: int64\n",
      "\n",
      "Observations for art_category:\n",
      " Oversized    501\n",
      "Small        403\n",
      "Medium       152\n",
      "Large        124\n",
      "Name: art_category, dtype: int64\n",
      "\n",
      "Observations for season:\n",
      " Fall      413\n",
      "Spring    313\n",
      "Summer    234\n",
      "Winter    220\n",
      "Name: season, dtype: int64\n",
      "\n",
      "Observations for est_category:\n",
      " Over Estimate     670\n",
      "Within Range      394\n",
      "Under Estimate    116\n",
      "Name: est_category, dtype: int64\n"
     ]
    }
   ],
   "source": [
    "doc_counts = dataset['doc_category'].value_counts()\n",
    "#pop_counts = dataset['pop_category'].value_counts()\n",
    "art_counts = dataset['art_category'].value_counts()\n",
    "season_counts = dataset['season'].value_counts()\n",
    "est_counts = dataset['est_category'].value_counts()\n",
    "\n",
    "print(\"\\nObservations for doc_category:\\n\", doc_counts)\n",
    "#print(\"\\nObservations for pop_category:\\n\", pop_counts)\n",
    "print(\"\\nObservations for art_category:\\n\", art_counts)\n",
    "print(\"\\nObservations for season:\\n\", season_counts)\n",
    "print(\"\\nObservations for est_category:\\n\", est_counts)"
   ]
  },
  {
   "cell_type": "code",
   "execution_count": 65,
   "id": "e4a5f491",
   "metadata": {},
   "outputs": [],
   "source": [
    "# Create dummy variables for 'doc_category' and drop the 'Unknown' category\n",
    "doc_category_dummies = pd.get_dummies(dataset['doc_category'], prefix='doc_category')\n",
    "doc_category_dummies = doc_category_dummies.drop('doc_category_Unknown', axis=1)\n",
    "\n",
    "# Create dummy variables for 'pop_category' and drop the 'Medium' category\n",
    "#pop_category_dummies = pd.get_dummies(dataset['pop_category'], prefix='pop_category')\n",
    "#pop_category_dummies = pop_category_dummies.drop('pop_category_Medium', axis=1)\n",
    "\n",
    "# Create dummy variables for 'art_category' and drop the 'Oversized' category\n",
    "art_category_dummies = pd.get_dummies(dataset['art_category'], prefix='art_category')\n",
    "art_category_dummies = art_category_dummies.drop('art_category_Oversized', axis=1)\n",
    "\n",
    "# Create dummy variables for the 'season' column\n",
    "season_dummies = pd.get_dummies(dataset['season'], prefix='season')\n",
    "season_dummies = season_dummies.drop('season_Fall', axis=1)\n",
    "\n",
    "# Create dummy variables for the 'season' column\n",
    "est_category_dummies = pd.get_dummies(dataset['est_category'], prefix='est_category')\n",
    "est_category_dummies = est_category_dummies.drop('est_category_Within Range', axis=1)\n",
    "\n",
    "# Concatenate the dummy variables to the original dataset\n",
    "dataset = pd.concat([dataset, doc_category_dummies, art_category_dummies, season_dummies, est_category_dummies ], axis=1) #pop_category_dummies\n",
    "\n",
    "# Drop the original categorical columns\n",
    "dataset = dataset.drop(['doc_category', 'art_category', 'season', 'est_category'], axis=1) #, 'pop_category'"
   ]
  },
  {
   "cell_type": "code",
   "execution_count": 66,
   "id": "3dab4652",
   "metadata": {},
   "outputs": [
    {
     "data": {
      "text/html": [
       "<div>\n",
       "<style scoped>\n",
       "    .dataframe tbody tr th:only-of-type {\n",
       "        vertical-align: middle;\n",
       "    }\n",
       "\n",
       "    .dataframe tbody tr th {\n",
       "        vertical-align: top;\n",
       "    }\n",
       "\n",
       "    .dataframe thead th {\n",
       "        text-align: right;\n",
       "    }\n",
       "</style>\n",
       "<table border=\"1\" class=\"dataframe\">\n",
       "  <thead>\n",
       "    <tr style=\"text-align: right;\">\n",
       "      <th></th>\n",
       "      <th>alive</th>\n",
       "      <th>log_price</th>\n",
       "      <th>titled</th>\n",
       "      <th>scaled_log_pop</th>\n",
       "      <th>years_since_death</th>\n",
       "      <th>premature_death</th>\n",
       "      <th>doc_category_Early 2000s to Modern (2000-present)</th>\n",
       "      <th>doc_category_Early 20th Century (1901-1945)</th>\n",
       "      <th>doc_category_Modern (1500-1900)</th>\n",
       "      <th>doc_category_Post-War to Late '90s (1946-1999)</th>\n",
       "      <th>art_category_Large</th>\n",
       "      <th>art_category_Medium</th>\n",
       "      <th>art_category_Small</th>\n",
       "      <th>season_Spring</th>\n",
       "      <th>season_Summer</th>\n",
       "      <th>season_Winter</th>\n",
       "      <th>est_category_Over Estimate</th>\n",
       "      <th>est_category_Under Estimate</th>\n",
       "    </tr>\n",
       "  </thead>\n",
       "  <tbody>\n",
       "    <tr>\n",
       "      <th>0</th>\n",
       "      <td>0</td>\n",
       "      <td>11.31</td>\n",
       "      <td>1</td>\n",
       "      <td>2.26</td>\n",
       "      <td>63</td>\n",
       "      <td>0</td>\n",
       "      <td>0</td>\n",
       "      <td>1</td>\n",
       "      <td>0</td>\n",
       "      <td>0</td>\n",
       "      <td>0</td>\n",
       "      <td>1</td>\n",
       "      <td>0</td>\n",
       "      <td>0</td>\n",
       "      <td>0</td>\n",
       "      <td>0</td>\n",
       "      <td>1</td>\n",
       "      <td>0</td>\n",
       "    </tr>\n",
       "    <tr>\n",
       "      <th>1</th>\n",
       "      <td>0</td>\n",
       "      <td>7.89</td>\n",
       "      <td>1</td>\n",
       "      <td>7.37</td>\n",
       "      <td>63</td>\n",
       "      <td>0</td>\n",
       "      <td>0</td>\n",
       "      <td>0</td>\n",
       "      <td>0</td>\n",
       "      <td>0</td>\n",
       "      <td>0</td>\n",
       "      <td>0</td>\n",
       "      <td>1</td>\n",
       "      <td>0</td>\n",
       "      <td>0</td>\n",
       "      <td>1</td>\n",
       "      <td>1</td>\n",
       "      <td>0</td>\n",
       "    </tr>\n",
       "    <tr>\n",
       "      <th>2</th>\n",
       "      <td>0</td>\n",
       "      <td>13.41</td>\n",
       "      <td>1</td>\n",
       "      <td>2.45</td>\n",
       "      <td>2</td>\n",
       "      <td>0</td>\n",
       "      <td>0</td>\n",
       "      <td>0</td>\n",
       "      <td>0</td>\n",
       "      <td>1</td>\n",
       "      <td>0</td>\n",
       "      <td>0</td>\n",
       "      <td>0</td>\n",
       "      <td>1</td>\n",
       "      <td>0</td>\n",
       "      <td>0</td>\n",
       "      <td>1</td>\n",
       "      <td>0</td>\n",
       "    </tr>\n",
       "    <tr>\n",
       "      <th>3</th>\n",
       "      <td>0</td>\n",
       "      <td>10.19</td>\n",
       "      <td>1</td>\n",
       "      <td>0.00</td>\n",
       "      <td>57</td>\n",
       "      <td>0</td>\n",
       "      <td>0</td>\n",
       "      <td>0</td>\n",
       "      <td>0</td>\n",
       "      <td>0</td>\n",
       "      <td>1</td>\n",
       "      <td>0</td>\n",
       "      <td>0</td>\n",
       "      <td>0</td>\n",
       "      <td>0</td>\n",
       "      <td>1</td>\n",
       "      <td>1</td>\n",
       "      <td>0</td>\n",
       "    </tr>\n",
       "    <tr>\n",
       "      <th>4</th>\n",
       "      <td>1</td>\n",
       "      <td>9.15</td>\n",
       "      <td>0</td>\n",
       "      <td>2.88</td>\n",
       "      <td>0</td>\n",
       "      <td>0</td>\n",
       "      <td>0</td>\n",
       "      <td>0</td>\n",
       "      <td>0</td>\n",
       "      <td>1</td>\n",
       "      <td>0</td>\n",
       "      <td>0</td>\n",
       "      <td>1</td>\n",
       "      <td>0</td>\n",
       "      <td>0</td>\n",
       "      <td>0</td>\n",
       "      <td>1</td>\n",
       "      <td>0</td>\n",
       "    </tr>\n",
       "    <tr>\n",
       "      <th>...</th>\n",
       "      <td>...</td>\n",
       "      <td>...</td>\n",
       "      <td>...</td>\n",
       "      <td>...</td>\n",
       "      <td>...</td>\n",
       "      <td>...</td>\n",
       "      <td>...</td>\n",
       "      <td>...</td>\n",
       "      <td>...</td>\n",
       "      <td>...</td>\n",
       "      <td>...</td>\n",
       "      <td>...</td>\n",
       "      <td>...</td>\n",
       "      <td>...</td>\n",
       "      <td>...</td>\n",
       "      <td>...</td>\n",
       "      <td>...</td>\n",
       "      <td>...</td>\n",
       "    </tr>\n",
       "    <tr>\n",
       "      <th>1182</th>\n",
       "      <td>0</td>\n",
       "      <td>10.13</td>\n",
       "      <td>1</td>\n",
       "      <td>3.24</td>\n",
       "      <td>70</td>\n",
       "      <td>0</td>\n",
       "      <td>0</td>\n",
       "      <td>0</td>\n",
       "      <td>0</td>\n",
       "      <td>0</td>\n",
       "      <td>0</td>\n",
       "      <td>0</td>\n",
       "      <td>1</td>\n",
       "      <td>0</td>\n",
       "      <td>0</td>\n",
       "      <td>1</td>\n",
       "      <td>0</td>\n",
       "      <td>1</td>\n",
       "    </tr>\n",
       "    <tr>\n",
       "      <th>1183</th>\n",
       "      <td>0</td>\n",
       "      <td>13.39</td>\n",
       "      <td>1</td>\n",
       "      <td>3.86</td>\n",
       "      <td>80</td>\n",
       "      <td>1</td>\n",
       "      <td>0</td>\n",
       "      <td>1</td>\n",
       "      <td>0</td>\n",
       "      <td>0</td>\n",
       "      <td>0</td>\n",
       "      <td>0</td>\n",
       "      <td>0</td>\n",
       "      <td>1</td>\n",
       "      <td>0</td>\n",
       "      <td>0</td>\n",
       "      <td>0</td>\n",
       "      <td>0</td>\n",
       "    </tr>\n",
       "    <tr>\n",
       "      <th>1184</th>\n",
       "      <td>0</td>\n",
       "      <td>13.80</td>\n",
       "      <td>1</td>\n",
       "      <td>3.86</td>\n",
       "      <td>32</td>\n",
       "      <td>0</td>\n",
       "      <td>0</td>\n",
       "      <td>0</td>\n",
       "      <td>0</td>\n",
       "      <td>1</td>\n",
       "      <td>0</td>\n",
       "      <td>0</td>\n",
       "      <td>0</td>\n",
       "      <td>0</td>\n",
       "      <td>0</td>\n",
       "      <td>1</td>\n",
       "      <td>1</td>\n",
       "      <td>0</td>\n",
       "    </tr>\n",
       "    <tr>\n",
       "      <th>1185</th>\n",
       "      <td>0</td>\n",
       "      <td>9.00</td>\n",
       "      <td>1</td>\n",
       "      <td>7.03</td>\n",
       "      <td>81</td>\n",
       "      <td>0</td>\n",
       "      <td>0</td>\n",
       "      <td>0</td>\n",
       "      <td>0</td>\n",
       "      <td>0</td>\n",
       "      <td>0</td>\n",
       "      <td>1</td>\n",
       "      <td>0</td>\n",
       "      <td>0</td>\n",
       "      <td>0</td>\n",
       "      <td>0</td>\n",
       "      <td>1</td>\n",
       "      <td>0</td>\n",
       "    </tr>\n",
       "    <tr>\n",
       "      <th>1186</th>\n",
       "      <td>0</td>\n",
       "      <td>9.75</td>\n",
       "      <td>0</td>\n",
       "      <td>7.25</td>\n",
       "      <td>301</td>\n",
       "      <td>0</td>\n",
       "      <td>0</td>\n",
       "      <td>0</td>\n",
       "      <td>0</td>\n",
       "      <td>0</td>\n",
       "      <td>0</td>\n",
       "      <td>0</td>\n",
       "      <td>1</td>\n",
       "      <td>0</td>\n",
       "      <td>0</td>\n",
       "      <td>0</td>\n",
       "      <td>1</td>\n",
       "      <td>0</td>\n",
       "    </tr>\n",
       "  </tbody>\n",
       "</table>\n",
       "<p>1180 rows × 18 columns</p>\n",
       "</div>"
      ],
      "text/plain": [
       "      alive  log_price  titled  scaled_log_pop  years_since_death  \\\n",
       "0         0      11.31       1            2.26                 63   \n",
       "1         0       7.89       1            7.37                 63   \n",
       "2         0      13.41       1            2.45                  2   \n",
       "3         0      10.19       1            0.00                 57   \n",
       "4         1       9.15       0            2.88                  0   \n",
       "...     ...        ...     ...             ...                ...   \n",
       "1182      0      10.13       1            3.24                 70   \n",
       "1183      0      13.39       1            3.86                 80   \n",
       "1184      0      13.80       1            3.86                 32   \n",
       "1185      0       9.00       1            7.03                 81   \n",
       "1186      0       9.75       0            7.25                301   \n",
       "\n",
       "      premature_death  doc_category_Early 2000s to Modern (2000-present)  \\\n",
       "0                   0                                                  0   \n",
       "1                   0                                                  0   \n",
       "2                   0                                                  0   \n",
       "3                   0                                                  0   \n",
       "4                   0                                                  0   \n",
       "...               ...                                                ...   \n",
       "1182                0                                                  0   \n",
       "1183                1                                                  0   \n",
       "1184                0                                                  0   \n",
       "1185                0                                                  0   \n",
       "1186                0                                                  0   \n",
       "\n",
       "      doc_category_Early 20th Century (1901-1945)  \\\n",
       "0                                               1   \n",
       "1                                               0   \n",
       "2                                               0   \n",
       "3                                               0   \n",
       "4                                               0   \n",
       "...                                           ...   \n",
       "1182                                            0   \n",
       "1183                                            1   \n",
       "1184                                            0   \n",
       "1185                                            0   \n",
       "1186                                            0   \n",
       "\n",
       "      doc_category_Modern (1500-1900)  \\\n",
       "0                                   0   \n",
       "1                                   0   \n",
       "2                                   0   \n",
       "3                                   0   \n",
       "4                                   0   \n",
       "...                               ...   \n",
       "1182                                0   \n",
       "1183                                0   \n",
       "1184                                0   \n",
       "1185                                0   \n",
       "1186                                0   \n",
       "\n",
       "      doc_category_Post-War to Late '90s (1946-1999)  art_category_Large  \\\n",
       "0                                                  0                   0   \n",
       "1                                                  0                   0   \n",
       "2                                                  1                   0   \n",
       "3                                                  0                   1   \n",
       "4                                                  1                   0   \n",
       "...                                              ...                 ...   \n",
       "1182                                               0                   0   \n",
       "1183                                               0                   0   \n",
       "1184                                               1                   0   \n",
       "1185                                               0                   0   \n",
       "1186                                               0                   0   \n",
       "\n",
       "      art_category_Medium  art_category_Small  season_Spring  season_Summer  \\\n",
       "0                       1                   0              0              0   \n",
       "1                       0                   1              0              0   \n",
       "2                       0                   0              1              0   \n",
       "3                       0                   0              0              0   \n",
       "4                       0                   1              0              0   \n",
       "...                   ...                 ...            ...            ...   \n",
       "1182                    0                   1              0              0   \n",
       "1183                    0                   0              1              0   \n",
       "1184                    0                   0              0              0   \n",
       "1185                    1                   0              0              0   \n",
       "1186                    0                   1              0              0   \n",
       "\n",
       "      season_Winter  est_category_Over Estimate  est_category_Under Estimate  \n",
       "0                 0                           1                            0  \n",
       "1                 1                           1                            0  \n",
       "2                 0                           1                            0  \n",
       "3                 1                           1                            0  \n",
       "4                 0                           1                            0  \n",
       "...             ...                         ...                          ...  \n",
       "1182              1                           0                            1  \n",
       "1183              0                           0                            0  \n",
       "1184              1                           1                            0  \n",
       "1185              0                           1                            0  \n",
       "1186              0                           1                            0  \n",
       "\n",
       "[1180 rows x 18 columns]"
      ]
     },
     "execution_count": 66,
     "metadata": {},
     "output_type": "execute_result"
    }
   ],
   "source": [
    "dataset"
   ]
  },
  {
   "cell_type": "code",
   "execution_count": 67,
   "id": "12c612da",
   "metadata": {},
   "outputs": [],
   "source": [
    "X = dataset.drop(columns=['log_price'])\n",
    "y = dataset['log_price']"
   ]
  },
  {
   "cell_type": "code",
   "execution_count": 68,
   "id": "64c738d5",
   "metadata": {},
   "outputs": [],
   "source": [
    "X_train, X_test, y_train, y_test = train_test_split(X, y, test_size=0.1, random_state=42)"
   ]
  },
  {
   "cell_type": "code",
   "execution_count": 69,
   "id": "8a15bf52",
   "metadata": {},
   "outputs": [],
   "source": [
    "X_train_const = sm.add_constant(X_train)\n",
    "X_test_const = sm.add_constant(X_test)\n",
    "model = sm.OLS(y_train, X_train_const).fit()"
   ]
  },
  {
   "cell_type": "code",
   "execution_count": 70,
   "id": "44229964",
   "metadata": {},
   "outputs": [
    {
     "name": "stdout",
     "output_type": "stream",
     "text": [
      "                            OLS Regression Results                            \n",
      "==============================================================================\n",
      "Dep. Variable:              log_price   R-squared:                       0.182\n",
      "Model:                            OLS   Adj. R-squared:                  0.169\n",
      "Method:                 Least Squares   F-statistic:                     13.67\n",
      "Date:                Thu, 21 Sep 2023   Prob (F-statistic):           1.52e-35\n",
      "Time:                        22:10:29   Log-Likelihood:                -2133.0\n",
      "No. Observations:                1062   AIC:                             4302.\n",
      "Df Residuals:                    1044   BIC:                             4391.\n",
      "Df Model:                          17                                         \n",
      "Covariance Type:            nonrobust                                         \n",
      "=====================================================================================================================\n",
      "                                                        coef    std err          t      P>|t|      [0.025      0.975]\n",
      "---------------------------------------------------------------------------------------------------------------------\n",
      "const                                                10.3934      0.285     36.503      0.000       9.835      10.952\n",
      "alive                                                -0.3978      0.192     -2.071      0.039      -0.775      -0.021\n",
      "titled                                               -0.1079      0.196     -0.550      0.582      -0.493       0.277\n",
      "scaled_log_pop                                       -0.0056      0.034     -0.163      0.870      -0.073       0.062\n",
      "years_since_death                                    -0.0025      0.001     -1.959      0.050      -0.005    4.16e-06\n",
      "premature_death                                       0.4088      0.177      2.315      0.021       0.062       0.755\n",
      "doc_category_Early 2000s to Modern (2000-present)     0.8061      0.277      2.914      0.004       0.263       1.349\n",
      "doc_category_Early 20th Century (1901-1945)           1.2470      0.204      6.120      0.000       0.847       1.647\n",
      "doc_category_Modern (1500-1900)                       2.6601      0.395      6.737      0.000       1.885       3.435\n",
      "doc_category_Post-War to Late '90s (1946-1999)        1.0704      0.141      7.594      0.000       0.794       1.347\n",
      "art_category_Large                                    0.5626      0.195      2.889      0.004       0.181       0.945\n",
      "art_category_Medium                                   0.1644      0.179      0.920      0.358      -0.186       0.515\n",
      "art_category_Small                                   -0.3051      0.135     -2.253      0.024      -0.571      -0.039\n",
      "season_Spring                                         0.2075      0.145      1.436      0.151      -0.076       0.491\n",
      "season_Summer                                        -0.2679      0.159     -1.685      0.092      -0.580       0.044\n",
      "season_Winter                                        -0.0403      0.163     -0.248      0.805      -0.359       0.279\n",
      "est_category_Over Estimate                           -0.1927      0.122     -1.580      0.114      -0.432       0.047\n",
      "est_category_Under Estimate                          -1.4232      0.203     -7.011      0.000      -1.822      -1.025\n",
      "==============================================================================\n",
      "Omnibus:                       44.189   Durbin-Watson:                   1.958\n",
      "Prob(Omnibus):                  0.000   Jarque-Bera (JB):               48.668\n",
      "Skew:                           0.516   Prob(JB):                     2.70e-11\n",
      "Kurtosis:                       3.189   Cond. No.                         496.\n",
      "==============================================================================\n",
      "\n",
      "Notes:\n",
      "[1] Standard Errors assume that the covariance matrix of the errors is correctly specified.\n"
     ]
    }
   ],
   "source": [
    "print(model.summary())"
   ]
  },
  {
   "cell_type": "markdown",
   "id": "ed4e1d05",
   "metadata": {},
   "source": [
    "# Regression Analysis and Correlation with `log_price`\n",
    "\n",
    "## Regression Analysis\n",
    "\n",
    "## Regression Analysis\n",
    "\n",
    "I performed a regression analysis to understand the relationship between the logarithm of the artwork's price (`log_price`) and various independent variables. The results are as follows:\n",
    "\n",
    "- **R-squared**: The R-squared value is 0.182, which means that approximately 18.2% of the variability in `log_price` is explained by the model. This is a relatively low value, suggesting that there might be other factors not included in the model that influence the price of artworks.\n",
    "\n",
    "- **Significant Variables**: \n",
    "  - `alive`, `years_since_death`, `premature_death`, and several categories from `doc_category` and `est_category` have p-values less than 0.05, indicating that they are statistically significant predictors of `log_price`.\n",
    "  - Notably, `est_category_Under Estimate` has a strong negative coefficient, suggesting artworks that are under-estimated tend to have a lower `log_price`.\n",
    "\n",
    "- **Insignificant Variables**: \n",
    "  - Variables like `titled`, `scaled_log_pop`, `art_category_Medium`, `season_Spring`, `season_Summer`, `season_Winter`, and `est_category_Over Estimate` have p-values greater than 0.05, indicating that they might not be significant predictors for `log_price` in this model.\n",
    "\n",
    "## Pearson Correlation with `log_price`\n",
    "\n",
    "The bar chart below displays the Pearson correlation coefficients between `log_price` and the independent variables. This provides a measure of the linear relationship between the target variable and each predictor."
   ]
  },
  {
   "cell_type": "code",
   "execution_count": 71,
   "id": "3340a9e3",
   "metadata": {},
   "outputs": [
    {
     "data": {
      "image/png": "[encoded data removed]",
      "text/plain": [
       "<Figure size 1080x576 with 1 Axes>"
      ]
     },
     "metadata": {},
     "output_type": "display_data"
    }
   ],
   "source": [
    "correlation = dataset.corr()['log_price'].drop('log_price')\n",
    "\n",
    "plt.figure(figsize=(15, 8))\n",
    "correlation.sort_values().plot(kind='bar', color='skyblue')\n",
    "plt.title('Correlazione di Pearson tra log_price e variabili indipendenti')\n",
    "plt.ylabel('Coefficiente di Correlazione')\n",
    "plt.xlabel('Variabili Indipendenti')\n",
    "plt.xticks(rotation=45, ha='right')\n",
    "plt.tight_layout()\n",
    "plt.show()"
   ]
  },
  {
   "cell_type": "markdown",
   "id": "2409b8ea",
   "metadata": {},
   "source": [
    "# Model Evaluation\n",
    "\n",
    "After fitting the OLS regression model, it's essential to evaluate its performance on the test dataset. The following sections provide insights into the model's accuracy and the distribution of residuals.\n",
    "\n",
    "## Root Mean Squared Error (RMSE) and R-squared\n",
    "\n",
    "- **RMSE**: This metric provides the average error made by the model in predicting the `log_price`. A lower RMSE indicates a better fit to the data.\n",
    "- **R-squared**: Represents the proportion of the variance in the dependent variable (`log_price`) that is predictable from the independent variables. It ranges from 0 to 1, with higher values indicating a better fit."
   ]
  },
  {
   "cell_type": "code",
   "execution_count": 72,
   "id": "c69a39f0",
   "metadata": {},
   "outputs": [],
   "source": [
    "y_pred = model.predict(X_test_const)"
   ]
  },
  {
   "cell_type": "code",
   "execution_count": 73,
   "id": "05901c86",
   "metadata": {},
   "outputs": [
    {
     "name": "stdout",
     "output_type": "stream",
     "text": [
      "RMSE: 1.7207221971695352\n",
      "R-squared: 0.22147523142957903\n"
     ]
    }
   ],
   "source": [
    "rmse = np.sqrt(mean_squared_error(y_test, y_pred))\n",
    "r2 = r2_score(y_test, y_pred)\n",
    "print(f'RMSE: {rmse}')\n",
    "print(f'R-squared: {r2}')"
   ]
  },
  {
   "cell_type": "markdown",
   "id": "8eb096fe",
   "metadata": {},
   "source": [
    "### Actual vs. Predicted Log Price\n",
    "\n",
    "The scatter plot below compares the actual log_price values from the test dataset with the predicted values from the model. The red line represents the line of perfect prediction. Points close to this line indicate accurate predictions."
   ]
  },
  {
   "cell_type": "code",
   "execution_count": 74,
   "id": "94469e12",
   "metadata": {},
   "outputs": [
    {
     "data": {
      "image/png": "[encoded data removed]",
      "text/plain": [
       "<Figure size 432x288 with 1 Axes>"
      ]
     },
     "metadata": {},
     "output_type": "display_data"
    }
   ],
   "source": [
    "plt.scatter(y_test, y_pred)\n",
    "plt.plot([min(y_test), max(y_test)], [min(y_test), max(y_test)], color='red')\n",
    "plt.xlabel('Actual Log Price')\n",
    "plt.ylabel('Predicted Log Price')\n",
    "plt.title('Actual vs Predicted Log Price')\n",
    "plt.show()"
   ]
  },
  {
   "cell_type": "markdown",
   "id": "22827f03",
   "metadata": {},
   "source": [
    "### Residuals Distribution\n",
    "\n",
    "Residuals are the differences between the actual and predicted values. Analyzing the distribution of residuals can provide insights into the model's assumptions and potential areas of improvement.\n",
    "\n",
    "The histogram below shows the distribution of residuals. Ideally, the residuals should be normally distributed around zero, indicating that the model's errors are random and not biased."
   ]
  },
  {
   "cell_type": "code",
   "execution_count": 75,
   "id": "220fd64d",
   "metadata": {},
   "outputs": [
    {
     "data": {
      "image/png": "[encoded data removed]",
      "text/plain": [
       "<Figure size 720x432 with 1 Axes>"
      ]
     },
     "metadata": {},
     "output_type": "display_data"
    }
   ],
   "source": [
    "residuals = y_test - y_pred\n",
    "plt.figure(figsize=(10,6))\n",
    "sns.histplot(residuals, bins=30, kde=True)\n",
    "plt.title('Residuals Distribution')\n",
    "plt.xlabel('Residuals')\n",
    "plt.ylabel('Density')\n",
    "plt.show()"
   ]
  },
  {
   "cell_type": "code",
   "execution_count": 76,
   "id": "14638652",
   "metadata": {},
   "outputs": [
    {
     "name": "stdout",
     "output_type": "stream",
     "text": [
      "const                                               3264321.44\n",
      "alive                                                   -32.82\n",
      "titled                                                  -10.22\n",
      "scaled_log_pop                                           -0.56\n",
      "years_since_death                                        -0.25\n",
      "premature_death                                          50.50\n",
      "doc_category_Early 2000s to Modern (2000-present)       123.91\n",
      "doc_category_Early 20th Century (1901-1945)             247.99\n",
      "doc_category_Modern (1500-1900)                        1329.84\n",
      "doc_category_Post-War to Late '90s (1946-1999)          191.65\n",
      "art_category_Large                                       75.52\n",
      "art_category_Medium                                      17.87\n",
      "art_category_Small                                      -26.29\n",
      "season_Spring                                            23.06\n",
      "season_Summer                                           -23.50\n",
      "season_Winter                                            -3.95\n",
      "est_category_Over Estimate                              -17.53\n",
      "est_category_Under Estimate                             -75.91\n",
      "dtype: float64\n"
     ]
    }
   ],
   "source": [
    "coefficients = model.params\n",
    "# compute impact on log_price\n",
    "price_impact = (np.exp(coefficients) - 1)*100\n",
    "print(price_impact)"
   ]
  },
  {
   "cell_type": "markdown",
   "id": "e11de67e",
   "metadata": {},
   "source": [
    "https://onlinelibrary.wiley.com/doi/10.1111/eufm.12348 reference for price impact"
   ]
  },
  {
   "cell_type": "markdown",
   "id": "eb404ed7",
   "metadata": {},
   "source": [
    "# OLS Regression Analysis\n",
    "\n",
    "## Summary\n",
    "\n",
    "The OLS regression analysis was conducted to understand the relationship between the logarithm of the artwork's price (`log_price`) and various independent variables. The updated results of the analysis are presented below.\n",
    "\n",
    "## Regression Results\n",
    "\n",
    "| Variable                                               | Coefficient | Standard Error | Price Impact (%) |\n",
    "|--------------------------------------------------------|-------------|----------------|------------------|\n",
    "| **alive**                                              | -0.3978     | 0.192          | -32.89           |\n",
    "| titled                                                 | -0.1079     | 0.196          | -10.25           |\n",
    "| scaled_log_pop                                         | -0.0056     | 0.034          | -0.56            |\n",
    "| years_since_death                                      | -0.0025     | 0.001          | -0.25            |\n",
    "| **premature_death**                                    | 0.4088      | 0.177          | 50.44            |\n",
    "| **doc_category_Early 2000s to Modern (2000-present)**  | 0.8061      | 0.277          | 123.97           |\n",
    "| **doc_category_Early 20th Century (1901-1945)**        | 1.2470      | 0.204          | 246.89           |\n",
    "| **doc_category_Modern (1500-1900)**                    | 2.6601      | 0.395          | 1330.23          |\n",
    "| **doc_category_Post-War to Late '90s (1946-1999)**     | 1.0704      | 0.141          | 191.63           |\n",
    "| **art_category_Large**                                 | 0.5626      | 0.195          | 75.54            |\n",
    "| art_category_Medium                                    | 0.1644      | 0.179          | 17.87            |\n",
    "| **art_category_Small**                                 | -0.3051     | 0.135          | -26.15           |\n",
    "| season_Spring                                          | 0.2075      | 0.145          | 23.05            |\n",
    "| season_Summer                                          | -0.2679     | 0.159          | -23.72           |\n",
    "| season_Winter                                          | -0.0403     | 0.163          | -3.93            |\n",
    "| est_category_Over Estimate                             | -0.1927     | 0.122          | -17.54           |\n",
    "| **est_category_Under Estimate**                        | -1.4232     | 0.203          | -75.89           |\n",
    "\n",
    "**Note**: Variables in bold are statistically significant at the 5% level.\n",
    "\n",
    "## Conclusions\n",
    "\n",
    "From the regression results, we can observe:\n",
    "\n",
    "1. The variables highlighted in bold are statistically significant at the 5% level, indicating they have a meaningful impact on the `log_price` of artworks.\n",
    "2. Variables such as `doc_category_Modern (1500-1900)` have a strong positive impact on the price, suggesting artworks from this period are likely to fetch a higher price.\n",
    "3. Conversely, variables like `est_category_Under Estimate` have a strong negative impact, indicating that artworks that are under-estimated tend to have a lower `log_price`.\n",
    "4. Some variables, like `titled` and `season_Winter`, have coefficients that are not statistically significant, suggesting they might not be strong predictors of `log_price` in this model.\n",
    "\n",
    "This analysis provides valuable insights into the factors influencing the price of artworks and can guide pricing strategies and investment decisions in the art market."
   ]
  },
  {
   "cell_type": "code",
   "execution_count": null,
   "id": "fa7d46e4",
   "metadata": {},
   "outputs": [],
   "source": []
  }
 ],
 "metadata": {
  "kernelspec": {
   "display_name": "Python 3 (ipykernel)",
   "language": "python",
   "name": "python3"
  },
  "language_info": {
   "codemirror_mode": {
    "name": "ipython",
    "version": 3
   },
   "file_extension": ".py",
   "mimetype": "text/x-python",
   "name": "python",
   "nbconvert_exporter": "python",
   "pygments_lexer": "ipython3",
   "version": "3.9.12"
  }
 },
 "nbformat": 4,
 "nbformat_minor": 5
}
